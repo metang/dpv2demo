{
 "cells": [
  {
   "cell_type": "markdown",
   "metadata": {},
   "source": [
    "# Build a simple ML pipeline with spark component\n",
    "\n",
    "**Requirements** - In order to benefit from this tutorial, you will need:\n",
    "- A basic understanding of Machine Learning\n",
    "- An Azure account with an active subscription - [Create an account for free](https://azure.microsoft.com/free/?WT.mc_id=A261C142F)\n",
    "- An Azure ML workspace with computer cluster - [Configure workspace](../../configuration.ipynb)\n",
    "- A python environment\n",
    "- Installed Azure Machine Learning Python SDK v2 - [install instructions](../../../README.md) - check the getting started section\n",
    "\n",
    "**Learning Objectives** - By the end of this tutorial, you should be able to:\n",
    "- Connect to your AML workspace from the Python SDK\n",
    "- Create `Pipeline` with spark component\n",
    "\n",
    "**Motivations** - In this example, we will explains how to create a spark component and use it in a pipeline. A Spark Component is a Component that executes a spark job in AML. It will support attached synapse spark and hobo spark."
   ]
  },
  {
   "cell_type": "markdown",
   "metadata": {},
   "source": [
    "# 1. Connect to Azure Machine Learning Workspace\n",
    "\n",
    "The [workspace](https://docs.microsoft.com/en-us/azure/machine-learning/concept-workspace) is the top-level resource for Azure Machine Learning, providing a centralized place to work with all the artifacts you create when you use Azure Machine Learning. In this section we will connect to the workspace in which the job will be run.\n",
    "\n",
    "## 1.2 Prepare spark workspace and compute resource\n",
    "1. **Create an Azure Synapse workspace**, check [this](https://docs.microsoft.com/en-us/azure/synapse-analytics/quickstart-create-workspace) for more information.\n",
    "2. **Create compute resource**, you can select from following two options:\n",
    "\n",
    "    - Submit a Spark Job using HOBO compute (cluster-less or serverless), check [this](https://docs.microsoft.com/en-us/azure/synapse-analytics/quickstart-create-apache-spark-pool-portal) for more information about creating Spark Pool in Synapse workspace.\n",
    "    \n",
    "    - Submit a Spark Job using an attached Synapse compute, check [this](https://learn.microsoft.com/en-us/azure/machine-learning/how-to-link-synapse-ml-workspaces) for more information about linking Azure Synapse Analytics and Azure Machine Learning workspaces, and attach Apache Spark pools.\n",
    "\n",
    "    In this example, we have created synapse spark compute in our CI workspace (\"spark31\").\n",
    "\n",
    "## 1.1 Import the required libraries"
   ]
  },
  {
   "cell_type": "code",
   "execution_count": 1,
   "metadata": {
    "name": "required-library"
   },
   "outputs": [],
   "source": [
    "# import required libraries\n",
    "from azure.identity import DefaultAzureCredential, InteractiveBrowserCredential\n",
    "from azure.ai.ml import MLClient, Input, Output, load_component, command\n",
    "from azure.ai.ml.dsl import pipeline\n",
    "from azure.ai.ml.entities import Environment\n",
    "from azure.ai.ml.constants import AssetTypes, InputOutputModes"
   ]
  },
  {
   "cell_type": "markdown",
   "metadata": {},
   "source": [
    "## 1.2 Configure credential\n",
    "We are using `DefaultAzureCredential` to get access to workspace.\n",
    "\n",
    "`DefaultAzureCredential` should be capable of handling most Azure SDK authentication scenarios. \n",
    "\n",
    "Reference for more available credentials if it does not work for you: [configure credential example](../../configuration.ipynb), [azure-identity reference doc](https://docs.microsoft.com/en-us/python/api/azure-identity/azure.identity?view=azure-python)."
   ]
  },
  {
   "cell_type": "code",
   "execution_count": 2,
   "metadata": {
    "name": "credential"
   },
   "outputs": [],
   "source": [
    "try:\n",
    "    credential = DefaultAzureCredential()\n",
    "    # Check if given credential can get token successfully.\n",
    "    credential.get_token(\"https://management.azure.com/.default\")\n",
    "except Exception as ex:\n",
    "    # Fall back to InteractiveBrowserCredential in case DefaultAzureCredential not work\n",
    "    credential = InteractiveBrowserCredential()"
   ]
  },
  {
   "cell_type": "markdown",
   "metadata": {},
   "source": [
    "## 1.3 Get a handle to the workspace\n",
    "\n",
    "We use config file to connect to a workspace. The Azure ML workspace should be configured with computer cluster. [Check this notebook for configure a workspace](../../configuration.ipynb)"
   ]
  },
  {
   "cell_type": "code",
   "execution_count": 4,
   "metadata": {
    "name": "workspace"
   },
   "outputs": [
    {
     "name": "stdout",
     "output_type": "stream",
     "text": [
      "SynapseSparkCompute({'type': 'synapsespark', 'created_on': datetime.datetime(2022, 10, 6, 6, 18, 34, 533622, tzinfo=<FixedOffset '+00:00'>), 'provisioning_state': 'Succeeded', 'provisioning_errors': None, 'name': 'spark-cluster', 'description': None, 'tags': {}, 'properties': {}, 'id': '/subscriptions/b746917e-ceb7-4ae0-81e6-3ccd893cb0de/resourceGroups/dpv2/providers/Microsoft.MachineLearningServices/workspaces/dpv2-wks/computes/spark-cluster', 'Resource__source_path': None, 'base_path': 'd:\\\\code\\\\dpv2demo\\\\Spark', 'creation_context': None, 'serialize': <msrest.serialization.Serializer object at 0x000001CA89A278B0>, 'resource_id': '/subscriptions/b746917e-ceb7-4ae0-81e6-3ccd893cb0de/resourceGroups/rg_synapse/providers/Microsoft.Synapse/workspaces/synapse-wks/bigDataPools/sparkpool', 'location': 'eastus', 'identity': None, 'node_count': 0, 'node_family': 'MemoryOptimized', 'node_size': 'Small', 'spark_version': '3.2', 'scale_settings': <azure.ai.ml.entities._compute.synapsespark_compute.AutoScaleSettings object at 0x000001CA85751D80>, 'auto_pause_settings': <azure.ai.ml.entities._compute.synapsespark_compute.AutoPauseSettings object at 0x000001CA899E16C0>})\n",
      "AmlCompute({'type': 'amlcompute', 'created_on': None, 'provisioning_state': 'Succeeded', 'provisioning_errors': None, 'name': 'cpu-cluster', 'description': None, 'tags': {}, 'properties': {}, 'id': '/subscriptions/b746917e-ceb7-4ae0-81e6-3ccd893cb0de/resourceGroups/dpv2/providers/Microsoft.MachineLearningServices/workspaces/dpv2-wks/computes/cpu-cluster', 'Resource__source_path': None, 'base_path': 'd:\\\\code\\\\dpv2demo\\\\Spark', 'creation_context': None, 'serialize': <msrest.serialization.Serializer object at 0x000001CA854AFDC0>, 'resource_id': None, 'location': 'eastus', 'size': 'STANDARD_DS3_V2', 'min_instances': 0, 'max_instances': 2, 'idle_time_before_scale_down': 120.0, 'identity': None, 'ssh_public_access_enabled': True, 'ssh_settings': None, 'network_settings': None, 'tier': 'dedicated', 'subnet': None})\n"
     ]
    }
   ],
   "source": [
    "# Get a handle to workspace\n",
    "#ml_client = MLClient.from_config(credential=credential)\n",
    "sub_id = \"b746917e-ceb7-4ae0-81e6-3ccd893cb0de\"\n",
    "rg = \"dpv2\"\n",
    "workspace = \"dpv2-wks\"\n",
    "\n",
    "ml_client = MLClient(DefaultAzureCredential(), sub_id, rg, workspace)\n",
    "\n",
    "# Retrieve an already attached Azure Machine Learning Synapse Compute.\n",
    "#spark_compute_target = \"spark31\"\n",
    "spark_compute_target = \"spark-cluster\"\n",
    "print(ml_client.compute.get(spark_compute_target))\n",
    "\n",
    "# Retrieve an already attached Azure Machine Learning Compute.\n",
    "cluster_name = \"cpu-cluster\"\n",
    "print(ml_client.compute.get(cluster_name))"
   ]
  },
  {
   "cell_type": "markdown",
   "metadata": {},
   "source": [
    "# 2. Define components\n",
    "\n",
    "Use `load_component` to load spark components defined using YAML. "
   ]
  },
  {
   "cell_type": "code",
   "execution_count": 5,
   "metadata": {
    "name": "load-from-yaml"
   },
   "outputs": [],
   "source": [
    "# load component\n",
    "parent_dir = \".\"\n",
    "spark_kmeans = load_component(path=parent_dir + \"/components/spark_kmeans.yml\")\n",
    "\n",
    "show_output_component = command(\n",
    "    inputs=dict(spark_output=Input(type=AssetTypes.URI_FOLDER)),\n",
    "    command=\"ls ${{inputs.spark_output}}\",\n",
    "    environment=\"AzureML-sklearn-0.24-ubuntu18.04-py37-cpu:1\",\n",
    ")"
   ]
  },
  {
   "cell_type": "markdown",
   "metadata": {},
   "source": [
    "# 3. Build pipeline\n",
    "\n",
    "We define a pipeline containing 2 nodes:\n",
    "- `kmeans_cluster` is a spark component which will conduct kmeans algorithom and print results.\n",
    "- `show_output` is a command component which will show center points got from kmeans_cluster"
   ]
  },
  {
   "cell_type": "code",
   "execution_count": 6,
   "metadata": {
    "name": "build-pipeline"
   },
   "outputs": [],
   "source": [
    "@pipeline()\n",
    "def spark_pipeline_from_yaml(train_data):\n",
    "    kmeans_clustering = spark_kmeans(file_input=train_data)\n",
    "    kmeans_clustering.compute = spark_compute_target\n",
    "    kmeans_clustering.outputs.output.mode = InputOutputModes.DIRECT\n",
    "\n",
    "    show_output = show_output_component(spark_output=kmeans_clustering.outputs.output)\n",
    "\n",
    "\n",
    "sample_data = Input(\n",
    "    path=parent_dir + \"/data/sample_kmeans_data.txt\",\n",
    "    type=AssetTypes.URI_FOLDER,\n",
    "    mode=InputOutputModes.DIRECT,\n",
    ")\n",
    "\n",
    "pipeline_job = spark_pipeline_from_yaml(train_data=sample_data)\n",
    "\n",
    "# set pipeline level compute\n",
    "pipeline_job.settings.default_compute = cluster_name"
   ]
  },
  {
   "cell_type": "code",
   "execution_count": 7,
   "metadata": {},
   "outputs": [
    {
     "name": "stdout",
     "output_type": "stream",
     "text": [
      "display_name: spark_pipeline_from_yaml\n",
      "type: pipeline\n",
      "inputs:\n",
      "  train_data:\n",
      "    mode: direct\n",
      "    type: uri_folder\n",
      "    path: azureml:./data/sample_kmeans_data.txt\n",
      "outputs: {}\n",
      "jobs:\n",
      "  kmeans_clustering:\n",
      "    $schema: '{}'\n",
      "    type: spark\n",
      "    inputs:\n",
      "      file_input:\n",
      "        path: ${{parent.inputs.train_data}}\n",
      "    outputs:\n",
      "      output:\n",
      "        mode: direct\n",
      "        type: uri_folder\n",
      "    code: D:/code/dpv2demo/Spark/components\n",
      "    entry:\n",
      "      file: kmeans_example.py\n",
      "    args: --file_input ${{inputs.file_input}} --output ${{outputs.output}}\n",
      "    conf:\n",
      "      spark.yarn.appMasterEnv.AZUREML_HADOOP_EXTENSION_URL: https://foobaradrama2.azurefd.net/latest/hadoop-azureml-fs.jar\n",
      "      spark.yarn.appMasterEnv.AZUREML_ENABLE_DATAPATH_RESOLUTION: true\n",
      "      spark.driver.cores: 2\n",
      "      spark.driver.memory: 1g\n",
      "      spark.executor.cores: 1\n",
      "      spark.executor.memory: 1g\n",
      "      spark.executor.instances: 1\n",
      "    component:\n",
      "      $schema: http://azureml/sdk-2-0/SparkComponent.json\n",
      "      name: kmeans_spark_component\n",
      "      version: '1'\n",
      "      display_name: Spark kmeans\n",
      "      description: Spark kmeans\n",
      "      type: spark\n",
      "      inputs:\n",
      "        file_input:\n",
      "          type: uri_file\n",
      "      outputs:\n",
      "        output:\n",
      "          type: uri_folder\n",
      "      code: D:/code/dpv2demo/Spark/components\n",
      "      entry:\n",
      "        file: kmeans_example.py\n",
      "      args: --file_input ${{inputs.file_input}} --output ${{outputs.output}}\n",
      "      conf:\n",
      "        spark.yarn.appMasterEnv.AZUREML_HADOOP_EXTENSION_URL: https://foobaradrama2.azurefd.net/latest/hadoop-azureml-fs.jar\n",
      "        spark.yarn.appMasterEnv.AZUREML_ENABLE_DATAPATH_RESOLUTION: true\n",
      "        spark.driver.cores: 2\n",
      "        spark.driver.memory: 1g\n",
      "        spark.executor.cores: 1\n",
      "        spark.executor.memory: 1g\n",
      "        spark.executor.instances: 1\n",
      "      is_deterministic: true\n",
      "      tags: {}\n",
      "    compute: azureml:spark-cluster\n",
      "  show_output:\n",
      "    $schema: '{}'\n",
      "    type: command\n",
      "    inputs:\n",
      "      spark_output:\n",
      "        path: ${{parent.jobs.kmeans_clustering.outputs.output}}\n",
      "    outputs: {}\n",
      "    command: ls ${{inputs.spark_output}}\n",
      "    environment: azureml:AzureML-sklearn-0.24-ubuntu18.04-py37-cpu:1\n",
      "    component:\n",
      "      name: azureml_anonymous\n",
      "      version: '1'\n",
      "      type: command\n",
      "      inputs:\n",
      "        spark_output:\n",
      "          type: uri_folder\n",
      "      outputs: {}\n",
      "      command: ls ${{inputs.spark_output}}\n",
      "      environment: azureml:AzureML-sklearn-0.24-ubuntu18.04-py37-cpu:1\n",
      "      is_deterministic: true\n",
      "      tags: {}\n",
      "    environment_variables: {}\n",
      "tags: {}\n",
      "properties: {}\n",
      "settings:\n",
      "  default_compute: azureml:cpu-cluster\n",
      "\n"
     ]
    }
   ],
   "source": [
    "print(pipeline_job)"
   ]
  },
  {
   "cell_type": "markdown",
   "metadata": {},
   "source": [
    "# 4. Submit pipeline job"
   ]
  },
  {
   "cell_type": "code",
   "execution_count": 8,
   "metadata": {
    "name": "submit-pipeline"
   },
   "outputs": [
    {
     "data": {
      "text/html": [
       "<table style=\"width:100%\"><tr><th>Experiment</th><th>Name</th><th>Type</th><th>Status</th><th>Details Page</th></tr><tr><td>pipeline_samples</td><td>clever_bottle_nj584yxc8r</td><td>pipeline</td><td>Preparing</td><td><a href=\"https://ml.azure.com/runs/clever_bottle_nj584yxc8r?wsid=/subscriptions/b746917e-ceb7-4ae0-81e6-3ccd893cb0de/resourcegroups/dpv2/workspaces/dpv2-wks&amp;tid=9c37dc6f-e051-496f-832c-e4fcf894c611\" target=\"_blank\" rel=\"noopener\">Link to Azure Machine Learning studio</a></td></tr></table>"
      ],
      "text/plain": [
       "PipelineJob({'inputs': {'train_data': <azure.ai.ml.entities._job.pipeline._io.PipelineInput object at 0x000001CA8B367E80>}, 'outputs': {}, 'component': PipelineComponent({'auto_increment_version': False, 'source': 'REMOTE.WORKSPACE.JOB', 'is_anonymous': True, 'name': 'azureml_anonymous', 'description': None, 'tags': {}, 'properties': {}, 'id': None, 'Resource__source_path': None, 'base_path': None, 'creation_context': None, 'serialize': <msrest.serialization.Serializer object at 0x000001CA8B366DA0>, 'version': '1', 'latest_version': None, 'schema': None, 'type': 'pipeline', 'display_name': 'spark_pipeline_from_yaml', 'is_deterministic': True, 'inputs': {'train_data': {'type': 'unknown'}}, 'outputs': {}, 'yaml_str': None, 'other_parameter': {}, 'func': <function [component] spark_pipeline_from_yaml at 0x000001CA8AA96C20>, 'jobs': {'kmeans_clustering': Spark({'init': False, 'type': 'spark', 'status': None, 'log_files': None, 'name': 'kmeans_clustering', 'description': None, 'tags': {}, 'properties': {}, 'id': None, 'Resource__source_path': None, 'base_path': None, 'creation_context': None, 'serialize': <msrest.serialization.Serializer object at 0x000001CA8B366A10>, 'allowed_keys': {}, 'key_restriction': False, 'logger': <Logger attr_dict (WARNING)>, 'display_name': None, 'experiment_name': None, 'compute': 'spark-cluster', 'services': None, 'job_inputs': {'file_input': '${{parent.inputs.train_data}}'}, 'job_outputs': {'output': {'type': 'uri_folder', 'mode': 'direct'}}, 'inputs': {'file_input': <azure.ai.ml.entities._job.pipeline._io.PipelineInputBase object at 0x000001CA8B366E60>}, 'outputs': {'output': <azure.ai.ml.entities._job.pipeline._io.PipelineOutputBase object at 0x000001CA8B366E30>}, 'component': 'azureml_anonymous:fe52af42-a5ee-4c52-9102-08d21e65dd1d', 'kwargs': {}, 'instance_id': '42d139b4-75e3-4d76-b258-e150b1fed329', 'source': 'REMOTE.WORKSPACE.COMPONENT', 'conf': OrderedDict([('driver_cores', 2), ('driver_memory', '1g'), ('executor_cores', 1), ('executor_memory', '1g'), ('executor_instances', 1), ('spark.yarn.appMasterEnv.AZUREML_HADOOP_EXTENSION_URL', 'https://foobaradrama2.azurefd.net/latest/hadoop-azureml-fs.jar'), ('spark.yarn.appMasterEnv.AZUREML_ENABLE_DATAPATH_RESOLUTION', True)]), 'driver_cores': 2, 'driver_memory': '1g', 'executor_cores': 1, 'executor_memory': '1g', 'executor_instances': 1, 'dynamic_allocation_enabled': None, 'dynamic_allocation_min_executors': None, 'dynamic_allocation_max_executors': None, 'entry': <azure.ai.ml.entities._job.spark_job_entry.SparkJobEntry object at 0x000001CA8B366890>, 'py_files': None, 'jars': None, 'files': None, 'archives': None, 'args': '--file_input ${{inputs.file_input}} --output ${{outputs.output}}', 'environment': None, 'identity': None, 'resources': None, 'swept': False}), 'show_output': Command({'parameters': {}, 'init': False, 'type': 'command', 'status': None, 'log_files': None, 'name': 'show_output', 'description': None, 'tags': {}, 'properties': {}, 'id': None, 'Resource__source_path': None, 'base_path': None, 'creation_context': None, 'serialize': <msrest.serialization.Serializer object at 0x000001CA8B366470>, 'allowed_keys': {}, 'key_restriction': False, 'logger': <Logger attr_dict (WARNING)>, 'display_name': None, 'experiment_name': None, 'compute': None, 'services': None, 'job_inputs': {'spark_output': '${{parent.jobs.kmeans_clustering.outputs.output}}'}, 'job_outputs': {}, 'inputs': {'spark_output': <azure.ai.ml.entities._job.pipeline._io.PipelineInputBase object at 0x000001CA8B366560>}, 'outputs': {}, 'component': 'azureml_anonymous:4dd15cbe-956e-4028-8e57-876187e5109f', 'kwargs': {'services': None}, 'instance_id': '3068e8e1-88dd-4c4b-bd0e-4e84c9cdc36e', 'source': 'REMOTE.WORKSPACE.COMPONENT', 'limits': None, 'identity': None, 'distribution': None, 'environment_variables': {}, 'environment': None, 'resources': None, 'swept': False})}, 'job_types': {'spark': 1, 'command': 1}, 'job_sources': {'REMOTE.WORKSPACE.COMPONENT': 2}}), 'type': 'pipeline', 'status': 'Preparing', 'log_files': None, 'name': 'clever_bottle_nj584yxc8r', 'description': None, 'tags': {}, 'properties': {'mlflow.source.git.repoURL': 'https://github.com/metang/dpv2demo.git', 'mlflow.source.git.branch': 'spark', 'mlflow.source.git.commit': '23279bbc40333772ce6032051baf326e8b977839', 'azureml.git.dirty': 'True', 'azureml.DevPlatv2': 'true', 'azureml.runsource': 'azureml.PipelineRun', 'runSource': 'MFE', 'runType': 'HTTP', 'azureml.parameters': '{}', 'azureml.continue_on_step_failure': 'False', 'azureml.continue_on_failed_optional_input': 'True', 'azureml.defaultComputeName': 'cpu-cluster', 'azureml.defaultDataStoreName': 'workspaceblobstore', 'azureml.pipelineComponent': 'pipelinerun'}, 'id': '/subscriptions/b746917e-ceb7-4ae0-81e6-3ccd893cb0de/resourceGroups/dpv2/providers/Microsoft.MachineLearningServices/workspaces/dpv2-wks/jobs/clever_bottle_nj584yxc8r', 'Resource__source_path': None, 'base_path': 'd:\\\\code\\\\dpv2demo\\\\Spark', 'creation_context': <azure.ai.ml.entities._system_data.SystemData object at 0x000001CA8B366F50>, 'serialize': <msrest.serialization.Serializer object at 0x000001CA8B366F20>, 'display_name': 'spark_pipeline_from_yaml', 'experiment_name': 'pipeline_samples', 'compute': None, 'services': {'Tracking': <azure.ai.ml._restclient.v2022_06_01_preview.models._models_py3.JobService object at 0x000001CA8B366C50>, 'Studio': <azure.ai.ml._restclient.v2022_06_01_preview.models._models_py3.JobService object at 0x000001CA8B366C80>}, 'settings': <azure.ai.ml.entities._job.pipeline.pipeline_job_settings.PipelineJobSettings object at 0x000001CA8B366E00>, 'identity': None, 'default_code': None, 'default_environment': None})"
      ]
     },
     "execution_count": 8,
     "metadata": {},
     "output_type": "execute_result"
    }
   ],
   "source": [
    "pipeline_job = ml_client.jobs.create_or_update(\n",
    "    pipeline_job, experiment_name=\"pipeline_samples\"\n",
    ")\n",
    "pipeline_job"
   ]
  },
  {
   "cell_type": "code",
   "execution_count": 9,
   "metadata": {
    "name": "stream-pipeline"
   },
   "outputs": [
    {
     "name": "stdout",
     "output_type": "stream",
     "text": [
      "RunId: clever_bottle_nj584yxc8r\n",
      "Web View: https://ml.azure.com/runs/clever_bottle_nj584yxc8r?wsid=/subscriptions/b746917e-ceb7-4ae0-81e6-3ccd893cb0de/resourcegroups/dpv2/workspaces/dpv2-wks\n",
      "\n",
      "Streaming logs/azureml/executionlogs.txt\n",
      "========================================\n",
      "\n",
      "[2022-10-06 06:46:47Z] Submitting 1 runs, first five are: b947448d:aca37313-b8b3-4555-942e-5b59d7f857b1\n",
      "[2022-10-06 06:48:46Z] Execution of experiment failed, update experiment status and cancel running nodes.\n",
      "\n",
      "Execution Summary\n",
      "=================\n",
      "RunId: clever_bottle_nj584yxc8r\n",
      "Web View: https://ml.azure.com/runs/clever_bottle_nj584yxc8r?wsid=/subscriptions/b746917e-ceb7-4ae0-81e6-3ccd893cb0de/resourcegroups/dpv2/workspaces/dpv2-wks\n"
     ]
    },
    {
     "ename": "JobException",
     "evalue": "Exception : \n {\n    \"error\": {\n        \"code\": \"UserError\",\n        \"message\": \"Pipeline has some failed steps. See child run or execution logs for more details.\",\n        \"message_format\": \"Pipeline has some failed steps. {0}\",\n        \"message_parameters\": {},\n        \"reference_code\": \"PipelineHasStepJobFailed\",\n        \"details\": []\n    },\n    \"environment\": \"eastus\",\n    \"location\": \"eastus\",\n    \"time\": \"2022-10-06T06:48:46.726874Z\",\n    \"component_name\": \"\"\n} ",
     "output_type": "error",
     "traceback": [
      "\u001b[1;31m---------------------------------------------------------------------------\u001b[0m",
      "\u001b[1;31mJobException\u001b[0m                              Traceback (most recent call last)",
      "\u001b[1;32md:\\code\\dpv2demo\\Spark\\pipeline_with_spark_nodes.ipynb Cell 15\u001b[0m in \u001b[0;36m<cell line: 2>\u001b[1;34m()\u001b[0m\n\u001b[0;32m      <a href='vscode-notebook-cell:/d%3A/code/dpv2demo/Spark/pipeline_with_spark_nodes.ipynb#X20sZmlsZQ%3D%3D?line=0'>1</a>\u001b[0m \u001b[39m# wait until the job completes\u001b[39;00m\n\u001b[1;32m----> <a href='vscode-notebook-cell:/d%3A/code/dpv2demo/Spark/pipeline_with_spark_nodes.ipynb#X20sZmlsZQ%3D%3D?line=1'>2</a>\u001b[0m ml_client\u001b[39m.\u001b[39;49mjobs\u001b[39m.\u001b[39;49mstream(pipeline_job\u001b[39m.\u001b[39;49mname)\n",
      "File \u001b[1;32mc:\\Users\\tangm\\anaconda3\\envs\\dpv2\\lib\\site-packages\\azure\\ai\\ml\\_telemetry\\activity.py:260\u001b[0m, in \u001b[0;36mmonitor_with_activity.<locals>.monitor.<locals>.wrapper\u001b[1;34m(*args, **kwargs)\u001b[0m\n\u001b[0;32m    257\u001b[0m \u001b[39m@functools\u001b[39m\u001b[39m.\u001b[39mwraps(f)\n\u001b[0;32m    258\u001b[0m \u001b[39mdef\u001b[39;00m \u001b[39mwrapper\u001b[39m(\u001b[39m*\u001b[39margs, \u001b[39m*\u001b[39m\u001b[39m*\u001b[39mkwargs):\n\u001b[0;32m    259\u001b[0m     \u001b[39mwith\u001b[39;00m log_activity(logger, activity_name \u001b[39mor\u001b[39;00m f\u001b[39m.\u001b[39m\u001b[39m__name__\u001b[39m, activity_type, custom_dimensions):\n\u001b[1;32m--> 260\u001b[0m         \u001b[39mreturn\u001b[39;00m f(\u001b[39m*\u001b[39margs, \u001b[39m*\u001b[39m\u001b[39m*\u001b[39mkwargs)\n",
      "File \u001b[1;32mc:\\Users\\tangm\\anaconda3\\envs\\dpv2\\lib\\site-packages\\azure\\ai\\ml\\operations\\_job_operations.py:548\u001b[0m, in \u001b[0;36mJobOperations.stream\u001b[1;34m(self, name)\u001b[0m\n\u001b[0;32m    545\u001b[0m     \u001b[39mraise\u001b[39;00m PipelineChildJobError(job_id\u001b[39m=\u001b[39mjob_object\u001b[39m.\u001b[39mid)\n\u001b[0;32m    547\u001b[0m \u001b[39mtry\u001b[39;00m:\n\u001b[1;32m--> 548\u001b[0m     \u001b[39mself\u001b[39;49m\u001b[39m.\u001b[39;49m_stream_logs_until_completion(\n\u001b[0;32m    549\u001b[0m         \u001b[39mself\u001b[39;49m\u001b[39m.\u001b[39;49m_runs_operations, job_object, \u001b[39mself\u001b[39;49m\u001b[39m.\u001b[39;49m_datastore_operations, requests_pipeline\u001b[39m=\u001b[39;49m\u001b[39mself\u001b[39;49m\u001b[39m.\u001b[39;49m_requests_pipeline\n\u001b[0;32m    550\u001b[0m     )\n\u001b[0;32m    551\u001b[0m \u001b[39mexcept\u001b[39;00m \u001b[39mException\u001b[39;00m:\n\u001b[0;32m    552\u001b[0m     \u001b[39mraise\u001b[39;00m\n",
      "File \u001b[1;32mc:\\Users\\tangm\\anaconda3\\envs\\dpv2\\lib\\site-packages\\azure\\ai\\ml\\operations\\_job_ops_helper.py:297\u001b[0m, in \u001b[0;36mstream_logs_until_completion\u001b[1;34m(run_operations, job_resource, datastore_operations, raise_exception_on_failed_job, requests_pipeline)\u001b[0m\n\u001b[0;32m    295\u001b[0m         file_handle\u001b[39m.\u001b[39mwrite(\u001b[39m\"\u001b[39m\u001b[39m\\n\u001b[39;00m\u001b[39m\"\u001b[39m)\n\u001b[0;32m    296\u001b[0m     \u001b[39melse\u001b[39;00m:\n\u001b[1;32m--> 297\u001b[0m         \u001b[39mraise\u001b[39;00m JobException(\n\u001b[0;32m    298\u001b[0m             message\u001b[39m=\u001b[39m\u001b[39m\"\u001b[39m\u001b[39mException : \u001b[39m\u001b[39m\\n\u001b[39;00m\u001b[39m \u001b[39m\u001b[39m{}\u001b[39;00m\u001b[39m \u001b[39m\u001b[39m\"\u001b[39m\u001b[39m.\u001b[39mformat(json\u001b[39m.\u001b[39mdumps(error, indent\u001b[39m=\u001b[39m\u001b[39m4\u001b[39m)),\n\u001b[0;32m    299\u001b[0m             target\u001b[39m=\u001b[39mErrorTarget\u001b[39m.\u001b[39mJOB,\n\u001b[0;32m    300\u001b[0m             no_personal_data_message\u001b[39m=\u001b[39m\u001b[39m\"\u001b[39m\u001b[39mException raised on failed job.\u001b[39m\u001b[39m\"\u001b[39m,\n\u001b[0;32m    301\u001b[0m             error_category\u001b[39m=\u001b[39mErrorCategory\u001b[39m.\u001b[39mSYSTEM_ERROR,\n\u001b[0;32m    302\u001b[0m         )\n\u001b[0;32m    304\u001b[0m file_handle\u001b[39m.\u001b[39mwrite(\u001b[39m\"\u001b[39m\u001b[39m\\n\u001b[39;00m\u001b[39m\"\u001b[39m)\n\u001b[0;32m    305\u001b[0m file_handle\u001b[39m.\u001b[39mflush()\n",
      "\u001b[1;31mJobException\u001b[0m: Exception : \n {\n    \"error\": {\n        \"code\": \"UserError\",\n        \"message\": \"Pipeline has some failed steps. See child run or execution logs for more details.\",\n        \"message_format\": \"Pipeline has some failed steps. {0}\",\n        \"message_parameters\": {},\n        \"reference_code\": \"PipelineHasStepJobFailed\",\n        \"details\": []\n    },\n    \"environment\": \"eastus\",\n    \"location\": \"eastus\",\n    \"time\": \"2022-10-06T06:48:46.726874Z\",\n    \"component_name\": \"\"\n} "
     ]
    }
   ],
   "source": [
    "# wait until the job completesc \n",
    "ml_client.jobs.stream(pipeline_job.name)"
   ]
  },
  {
   "cell_type": "markdown",
   "metadata": {},
   "source": []
  },
  {
   "cell_type": "markdown",
   "metadata": {},
   "source": [
    "# Next Steps\n",
    "You can see further examples of running a pipeline job [here](../)"
   ]
  }
 ],
 "metadata": {
  "description": {
   "description": "Create pipeline with spark node"
  },
  "kernelspec": {
   "display_name": "Python 3.10.4 ('dpv2')",
   "language": "python",
   "name": "python3"
  },
  "language_info": {
   "codemirror_mode": {
    "name": "ipython",
    "version": 3
   },
   "file_extension": ".py",
   "mimetype": "text/x-python",
   "name": "python",
   "nbconvert_exporter": "python",
   "pygments_lexer": "ipython3",
   "version": "3.10.4"
  },
  "vscode": {
   "interpreter": {
    "hash": "fd93e304daff9e4e686bfc9607973de377fed28736a52eb30bf8c94fedb78ed2"
   }
  }
 },
 "nbformat": 4,
 "nbformat_minor": 2
}
