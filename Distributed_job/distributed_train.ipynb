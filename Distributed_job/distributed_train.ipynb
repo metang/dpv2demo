{
 "cells": [
  {
   "cell_type": "code",
   "execution_count": 20,
   "metadata": {},
   "outputs": [],
   "source": [
    "from azure.ai.ml import command, Input\n",
    "from azure.ai.ml import MLClient\n",
    "from azure.identity import DefaultAzureCredential"
   ]
  },
  {
   "cell_type": "code",
   "execution_count": 21,
   "metadata": {},
   "outputs": [
    {
     "name": "stdout",
     "output_type": "stream",
     "text": [
      "MLClient(credential=<azure.identity._credentials.default.DefaultAzureCredential object at 0x000001F56E9F6C20>,\n",
      "         subscription_id=b746917e-ceb7-4ae0-81e6-3ccd893cb0de,\n",
      "         resource_group_name=dpv2,\n",
      "         workspace_name=dpv2-wks)\n"
     ]
    }
   ],
   "source": [
    "sub_id = \"b746917e-ceb7-4ae0-81e6-3ccd893cb0de\"\n",
    "rg = \"dpv2\"\n",
    "workspace = \"dpv2-wks\"\n",
    "\n",
    "mc_client = MLClient(DefaultAzureCredential(), sub_id, rg, workspace)\n",
    "print(mc_client)"
   ]
  },
  {
   "cell_type": "code",
   "execution_count": 22,
   "metadata": {},
   "outputs": [],
   "source": [
    "from azure.ai.ml import load_component\n",
    "from azure.ai.ml.dsl import pipeline\n",
    "from azure.ai.ml.entities import Data\n",
    "from azure.ai.ml import Output\n",
    "from azure.ai.ml.constants import AssetTypes\n"
   ]
  },
  {
   "cell_type": "code",
   "execution_count": 23,
   "metadata": {},
   "outputs": [],
   "source": [
    "inputs = {\n",
    "    \"cifar_zip\": Input(\n",
    "        path=\"https://www.cs.toronto.edu/~kriz/cifar-10-python.tar.gz\",\n",
    "        type=AssetTypes.URI_FILE,\n",
    "    )\n",
    "}\n",
    "\n",
    "# metang:try: how about we try the uri_file here. Seems not ok, as the code is to extract the gz files. We dont know how many files in the .gz\n",
    "outputs = {\n",
    "    \"cifar\": Output(\n",
    "        # write to absolute path in the default datastore        \n",
    "         path=f\"azureml://subscriptions/{sub_id}/resourcegroups/{rg}/workspaces/{workspace}/datastores/workspaceblobstore/paths/CIFAR-10\",\n",
    "         type=AssetTypes.URI_FOLDER\n",
    "    )\n",
    "}"
   ]
  },
  {
   "cell_type": "code",
   "execution_count": 24,
   "metadata": {},
   "outputs": [],
   "source": [
    "from calendar import c\n",
    "\n",
    "\n",
    "job = command(\n",
    "    code = \"./src\",\n",
    "    # metang:note: when I mistype mc_clinet(DefaultCredential() ,... ) to mc_clinet(DefaultCredential, \"missing ()\" ...),\n",
    "    # got error message: AssetException: Error with code: 'str' object has no attribute '_successful_credential'    \n",
    "    command=\"python read_write_data.py --input_data ${{inputs.cifar_zip}} --output_folder ${{outputs.cifar}}\",\n",
    "    inputs=inputs, \n",
    "    outputs=outputs,\n",
    "    environment=\"AzureML-sklearn-0.24-ubuntu18.04-py37-cpu:9\",\n",
    "    compute=\"cpu-cluster\",\n",
    ")"
   ]
  },
  {
   "cell_type": "code",
   "execution_count": 43,
   "metadata": {},
   "outputs": [],
   "source": [
    "ret_job = mc_client.jobs.create_or_update(job, experiment_name=\"distributed_job\")\n"
   ]
  },
  {
   "cell_type": "code",
   "execution_count": null,
   "metadata": {},
   "outputs": [],
   "source": [
    "ret_job.services[\"Studio\"].endpoint"
   ]
  },
  {
   "cell_type": "code",
   "execution_count": 38,
   "metadata": {},
   "outputs": [
    {
     "name": "stdout",
     "output_type": "stream",
     "text": [
      "polite_brain_h1g2cp710x\n",
      "distributed_job\n",
      "${{parent.jobs.polite_brain_h1g2cp710x.outputs.cifar}}\n"
     ]
    }
   ],
   "source": [
    "print(ret_job.name)\n",
    "print(ret_job.experiment_name)\n",
    "print(ret_job.outputs[\"cifar\"])\n",
    "# metang:?: sample doesn't work for the following code,\n",
    "#print(ret_job.outputs[\"cifar\"][\"path\"])"
   ]
  },
  {
   "cell_type": "code",
   "execution_count": 19,
   "metadata": {},
   "outputs": [
    {
     "name": "stdout",
     "output_type": "stream",
     "text": [
      "credential ok\n"
     ]
    }
   ],
   "source": [
    "# Test Credential\n",
    "\n",
    "try: \n",
    "    credential = DefaultAzureCredential()\n",
    "    credential.get_token(\"https://management.azure.com/.default\")\n",
    "    print(\"credential ok\")\n",
    "except Exception as ex:\n",
    "    print(ex)"
   ]
  },
  {
   "cell_type": "code",
   "execution_count": 40,
   "metadata": {},
   "outputs": [
    {
     "name": "stdout",
     "output_type": "stream",
     "text": [
      "Running\n"
     ]
    }
   ],
   "source": [
    "for i in mc_client.jobs.list():\n",
    "    if i.name == ret_job.name:\n",
    "        print(i.status)"
   ]
  },
  {
   "cell_type": "code",
   "execution_count": 47,
   "metadata": {},
   "outputs": [],
   "source": [
    "inputs = dict(\n",
    "    cifar = Input(\n",
    "        type=AssetTypes.URI_FOLDER,\n",
    "        #path = ret_job.outputs[\"cifar\"][\"path\"],        \n",
    "        path=f\"azureml://subscriptions/{sub_id}/resourcegroups/{rg}/workspaces/{workspace}/datastores/workspaceblobstore/paths/CIFAR-10\", \n",
    "    ),\n",
    "    epoch=10,\n",
    "    batchsize=64,\n",
    "    workers=2,\n",
    "    lr=0.01,\n",
    "    momen=0.9,\n",
    "    prtfreq=200,\n",
    "    outputs=\"./outputs\",\n",
    ")"
   ]
  },
  {
   "cell_type": "code",
   "execution_count": null,
   "metadata": {},
   "outputs": [],
   "source": [
    "dist_job = command(\n",
    "    code = \"./src\",\n",
    "    command=\"python train.py --data-dir ${{inputs.cifar}} --epochs ${{inputs.epoch}} --batch-size ${{inputs.batchsize}} --workers ${{inputs.workers}} --learning-rate ${{inputs.lr}} --momentum ${{inputs.momen}} --print-freq ${{inputs.prtfreq}} --model-dir ${{inputs.output}}\",\n",
    "    inputs=inputs,\n",
    "    environment=\"azureml:AzureML-pytorch-1.9-ubuntu18.04-py37-cuda11-gpu:6\",\n",
    "    compute=\"gpu-cluster-V100\",  # Change the name to the gpu cluster of your workspace.\n",
    "    instance_count=2,  # In this, only 2 node cluster was created.\n",
    "    distribution={\n",
    "        \"type\": \"PyTorch\",\n",
    "        # set process count to the number of gpus per node\n",
    "        # NV6 has only 1 GPU\n",
    "        \"process_count_per_instance\": 1,\n",
    "    },\n",
    ")"
   ]
  }
 ],
 "metadata": {
  "kernelspec": {
   "display_name": "Python 3.10.4 ('dpv2')",
   "language": "python",
   "name": "python3"
  },
  "language_info": {
   "codemirror_mode": {
    "name": "ipython",
    "version": 3
   },
   "file_extension": ".py",
   "mimetype": "text/x-python",
   "name": "python",
   "nbconvert_exporter": "python",
   "pygments_lexer": "ipython3",
   "version": "3.10.4"
  },
  "orig_nbformat": 4,
  "vscode": {
   "interpreter": {
    "hash": "fd93e304daff9e4e686bfc9607973de377fed28736a52eb30bf8c94fedb78ed2"
   }
  }
 },
 "nbformat": 4,
 "nbformat_minor": 2
}
