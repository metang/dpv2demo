{
 "cells": [
  {
   "cell_type": "code",
   "execution_count": 2,
   "metadata": {},
   "outputs": [],
   "source": [
    "from azure.ai.ml import MLClient, command, Input, Output\n",
    "from azure.ai.ml import load_component\n",
    "from azure.ai.ml.dsl import pipeline\n",
    "from azure.ai.ml.constants import AssetTypes\n",
    "from azure.identity import DefaultAzureCredential\n"
   ]
  },
  {
   "cell_type": "code",
   "execution_count": 3,
   "metadata": {},
   "outputs": [],
   "source": [
    "sub_id = \"b746917e-ceb7-4ae0-81e6-3ccd893cb0de\"\n",
    "rg = \"dpv2\"\n",
    "workspace = \"dpv2-wks\"\n",
    "\n",
    "ml_client = MLClient(DefaultAzureCredential(), sub_id, rg, workspace)"
   ]
  },
  {
   "cell_type": "code",
   "execution_count": 4,
   "metadata": {},
   "outputs": [],
   "source": [
    "from json import load\n",
    "\n",
    "\n",
    "get_data_func = load_component(\"./get-data.yml\")\n",
    "train_model_func = load_component(\"./train-model.yml\")\n",
    "eval_model_func = load_component(\"./eval-model.yml\")\n"
   ]
  },
  {
   "cell_type": "code",
   "execution_count": 5,
   "metadata": {},
   "outputs": [],
   "source": [
    "@pipeline()\n",
    "def train_cifar():\n",
    "    get_data_step = get_data_func(\n",
    "        cifar_zip=Input(\n",
    "            path=\"wasbs://datasets@azuremlexamples.blob.core.windows.net/cifar-10-python.tar.gz\",\n",
    "            type=\"uri_file\",\n",
    "        )\n",
    "    )\n",
    "    get_data_step.outputs.cifar.mode = \"upload\"\n",
    "\n",
    "    train_model_step = train_model_func(\n",
    "        epochs = 2,\n",
    "        cifar=get_data_step.outputs.cifar \n",
    "    )\n",
    "    train_model_step.compute = \"gpu-cluster\"       \n",
    "    train_model_step.outputs.model_dir.mode = \"upload\"\n",
    "    # metang:?: does resources a attributes that every step has or it's just the attributes for this train_model component\n",
    "    train_model_step.resources.instance_count = 1\n",
    "    \n",
    "job = train_cifar()\n",
    "job.settings.default_compute=\"cpu-cluster\""
   ]
  },
  {
   "cell_type": "code",
   "execution_count": 6,
   "metadata": {},
   "outputs": [],
   "source": [
    "ret_job = ml_client.jobs.create_or_update(job, experiment_name=\"distributed_job_pipeline\")"
   ]
  },
  {
   "cell_type": "code",
   "execution_count": 7,
   "metadata": {},
   "outputs": [
    {
     "name": "stdout",
     "output_type": "stream",
     "text": [
      "$schema: https://azuremlschemas.azureedge.net/latest/commandComponent.schema.json\n",
      "name: eval_model\n",
      "display_name: Eval Model\n",
      "type: command\n",
      "inputs:\n",
      "  cifar:\n",
      "    type: uri_folder\n",
      "  model_dir:\n",
      "    type: uri_folder\n",
      "outputs: {}\n",
      "command: python main.py --data-dir ${{inputs.cifar}} --model-dir ${{inputs.model_dir}}/model\n",
      "environment: azureml:AzureML-pytorch-1.9-ubuntu18.04-py37-cuda11-gpu:6\n",
      "code: ./eval-model\n",
      "resources:\n",
      "  instance_count: 2\n",
      "  properties: {}\n",
      "is_deterministic: true\n",
      "tags: {}\n",
      "distribution:\n",
      "  type: pytorch\n",
      "  process_count_per_instance: 2\n",
      "\n"
     ]
    }
   ],
   "source": [
    "print(eval_model_func)"
   ]
  },
  {
   "cell_type": "code",
   "execution_count": null,
   "metadata": {},
   "outputs": [],
   "source": []
  }
 ],
 "metadata": {
  "kernelspec": {
   "display_name": "Python 3.10.4 ('dpv2')",
   "language": "python",
   "name": "python3"
  },
  "language_info": {
   "codemirror_mode": {
    "name": "ipython",
    "version": 3
   },
   "file_extension": ".py",
   "mimetype": "text/x-python",
   "name": "python",
   "nbconvert_exporter": "python",
   "pygments_lexer": "ipython3",
   "version": "3.10.4"
  },
  "orig_nbformat": 4,
  "vscode": {
   "interpreter": {
    "hash": "fd93e304daff9e4e686bfc9607973de377fed28736a52eb30bf8c94fedb78ed2"
   }
  }
 },
 "nbformat": 4,
 "nbformat_minor": 2
}
