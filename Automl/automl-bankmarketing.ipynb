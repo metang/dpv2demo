{
 "cells": [
  {
   "cell_type": "code",
   "execution_count": 13,
   "metadata": {},
   "outputs": [],
   "source": [
    "from azure.identity import DefaultAzureCredential, InteractiveBrowserCredential\n",
    "\n",
    "from azure.ai.ml import MLClient, Input, command, Output\n",
    "from azure.ai.ml.dsl import pipeline\n",
    "from azure.ai.ml.automl import classification, regression\n",
    "from azure.ai.ml.constants import AssetTypes\n",
    "\n",
    "#metang:?: why automl has such complex package name\n",
    "from azure.ai.ml.entities._job.automl.tabular import TabularFeaturizationSettings"
   ]
  },
  {
   "cell_type": "code",
   "execution_count": 14,
   "metadata": {},
   "outputs": [],
   "source": [
    "sub_id = \"b746917e-ceb7-4ae0-81e6-3ccd893cb0de\"\n",
    "rg = \"dpv2\"\n",
    "workspace = \"dpv2-wks\"\n",
    "\n",
    "ml_client = MLClient(DefaultAzureCredential(), sub_id, rg, workspace)"
   ]
  },
  {
   "cell_type": "code",
   "execution_count": 18,
   "metadata": {},
   "outputs": [],
   "source": [
    "@pipeline()\n",
    "def automl_pipe(training_data, validation_data):\n",
    "    classification_step = classification(\n",
    "        training_data=training_data,\n",
    "        validation_data=validation_data,\n",
    "        target_column_name=\"y\",\n",
    "        primary_metric=\"accuracy\",\n",
    "        featurization=TabularFeaturizationSettings(mode=\"auto\"),\n",
    "        outputs=dict(\n",
    "            best_model = Output(type=\"mlflow_model\")\n",
    "        )\n",
    "    )\n",
    "\n",
    "    classification_step.set_limits(max_trials=20)\n",
    "    classification_step.set_training(\n",
    "        enable_stack_ensemble=False,\n",
    "        enable_vote_ensemble=False\n",
    "    )\n",
    "\n",
    "    register_func = command(\n",
    "        inputs=dict(\n",
    "            model_input_path=Input(type=\"mlflow_model\"),\n",
    "            model_base_name=\"bankmarketing_best_model\",\n",
    "        ),\n",
    "        code=\"./register.py\",\n",
    "        command=\"python register.py \"\n",
    "        + \"--model_input_path ${{inputs.model_input_path}} \"\n",
    "        + \"--model_base_name ${{inputs.model_base_name}}\",\n",
    "        environment=\"AzureML-sklearn-0.24-ubuntu18.04-py37-cpu:1\",\n",
    "    )\n",
    "\n",
    "    register_step = register_func(model_input_path=classification_step.outputs.best_model)\n",
    "\n",
    "pipeline_job = automl_pipe(\n",
    "    # why here the type is not AssetTypes**\n",
    "    training_data = Input(path=\"./training-mltable-folder/\", type=AssetTypes.MLTABLE),\n",
    "    validation_data=Input(path=\"./validation-mltable-folder/\", type=AssetTypes.MLTABLE),\n",
    ")\n",
    "\n",
    "pipeline_job.settings.default_compute=\"cpu-cluster\"\n"
   ]
  },
  {
   "cell_type": "code",
   "execution_count": 19,
   "metadata": {},
   "outputs": [],
   "source": [
    "submit_job = ml_client.jobs.create_or_update(pipeline_job, experiment_name=\"automl_demo\")"
   ]
  },
  {
   "cell_type": "code",
   "execution_count": 20,
   "metadata": {},
   "outputs": [
    {
     "name": "stdout",
     "output_type": "stream",
     "text": [
      "RunId: bold_carpet_tz3fr3d015\n",
      "Web View: https://ml.azure.com/runs/bold_carpet_tz3fr3d015?wsid=/subscriptions/b746917e-ceb7-4ae0-81e6-3ccd893cb0de/resourcegroups/dpv2/workspaces/dpv2-wks\n",
      "\n",
      "Streaming logs/azureml/executionlogs.txt\n",
      "========================================\n",
      "\n",
      "[2022-10-06 08:38:15Z] Submitting 1 runs, first five are: 8d55429f:84684799-dcb7-4fb9-ac57-c0315d37aec6\n",
      "[2022-10-06 08:51:10Z] Completing processing run id 84684799-dcb7-4fb9-ac57-c0315d37aec6.\n",
      "[2022-10-06 08:51:10Z] Submitting 1 runs, first five are: 5894141d:5c41a6c0-307d-465f-8769-f84911a168e8\n",
      "[2022-10-06 08:51:58Z] Completing processing run id 5c41a6c0-307d-465f-8769-f84911a168e8.\n",
      "\n",
      "Execution Summary\n",
      "=================\n",
      "RunId: bold_carpet_tz3fr3d015\n",
      "Web View: https://ml.azure.com/runs/bold_carpet_tz3fr3d015?wsid=/subscriptions/b746917e-ceb7-4ae0-81e6-3ccd893cb0de/resourcegroups/dpv2/workspaces/dpv2-wks\n",
      "\n"
     ]
    }
   ],
   "source": [
    "ml_client.jobs.stream(submit_job.name)"
   ]
  },
  {
   "cell_type": "code",
   "execution_count": null,
   "metadata": {},
   "outputs": [],
   "source": []
  }
 ],
 "metadata": {
  "kernelspec": {
   "display_name": "Python 3.10.4 ('dpv2')",
   "language": "python",
   "name": "python3"
  },
  "language_info": {
   "codemirror_mode": {
    "name": "ipython",
    "version": 3
   },
   "file_extension": ".py",
   "mimetype": "text/x-python",
   "name": "python",
   "nbconvert_exporter": "python",
   "pygments_lexer": "ipython3",
   "version": "3.10.4"
  },
  "orig_nbformat": 4,
  "vscode": {
   "interpreter": {
    "hash": "fd93e304daff9e4e686bfc9607973de377fed28736a52eb30bf8c94fedb78ed2"
   }
  }
 },
 "nbformat": 4,
 "nbformat_minor": 2
}
