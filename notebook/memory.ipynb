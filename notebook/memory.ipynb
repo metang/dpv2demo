{
 "cells": [
  {
   "cell_type": "code",
   "execution_count": 4,
   "metadata": {},
   "outputs": [],
   "source": [
    "from azure.ai.ml import MLClient\n",
    "from azure.identity import DefaultAzureCredential\n",
    "from azure.ai.ml.dsl import pipeline\n",
    "from azure.ai.ml import load_component\n",
    "from azure.ai.ml import Input"
   ]
  },
  {
   "cell_type": "code",
   "execution_count": 7,
   "metadata": {},
   "outputs": [],
   "source": [
    "fs = Input(\n",
    "    #type=\"uri_folder\",\n",
    "    path=\"wasbs://demo@data4mldemo6150520719.blob.core.windows.net/mnist-fashion/\",\n",
    "    )"
   ]
  },
  {
   "cell_type": "code",
   "execution_count": 8,
   "metadata": {},
   "outputs": [
    {
     "name": "stdout",
     "output_type": "stream",
     "text": [
      "{'type': 'uri_folder', 'path': 'wasbs://demo@data4mldemo6150520719.blob.core.windows.net/mnist-fashion/'}\n"
     ]
    }
   ],
   "source": [
    "print(fs)"
   ]
  },
  {
   "cell_type": "code",
   "execution_count": 14,
   "metadata": {},
   "outputs": [],
   "source": [
    "fashion_ds = Input(\n",
    "    # why there is no type here. Is this input a uri_folder, or just a string?\n",
    "    path=\"wasbs://demo@data4mldemo6150520719.blob.core.windows.net/mnist-fashion/\"\n",
    ")"
   ]
  },
  {
   "cell_type": "code",
   "execution_count": 16,
   "metadata": {},
   "outputs": [
    {
     "name": "stdout",
     "output_type": "stream",
     "text": [
      "<class 'azure.ai.ml.entities._inputs_outputs.Input'>\n"
     ]
    }
   ],
   "source": [
    "print(Input)"
   ]
  },
  {
   "cell_type": "code",
   "execution_count": 17,
   "metadata": {},
   "outputs": [],
   "source": [
    "import os\n",
    "from pathlib import Path\n",
    "from mldesigner import command_component, Input, Output\n",
    "\n",
    "# metang: here the mldesginer Input replaced previous defined Input\n",
    "# <class 'azure.ai.ml.entities._inputs_outputs.Input'>\n",
    "# after mldesigner the input class is\n",
    "# <class 'mldesigner._input_output.Input'> <class 'mldesigner._input_output.Output'>"
   ]
  },
  {
   "cell_type": "code",
   "execution_count": 19,
   "metadata": {},
   "outputs": [
    {
     "name": "stdout",
     "output_type": "stream",
     "text": [
      "<class 'mldesigner._input_output.Input'> <class 'mldesigner._input_output.Output'>\n"
     ]
    }
   ],
   "source": [
    "@command_component(\n",
    "    name=\"prep_data\", # Question: here the name prep_data and the function below prep_data_component, should it be the same?\n",
    "    version = \"1\",\n",
    "    description= \"description of the prep_data component\",\n",
    "    display_name=\"display name of prep_data component\"\n",
    "    environment= dict()\n",
    ")\n",
    "# Error: tutorial sample code and pictures are inconsistent. https://learn.microsoft.com/en-us/azure/machine-learning/how-to-create-component-pipeline-python\n",
    "# Error: including the image using dsl.component and the sample using component\n",
    "# Error: including the image using environemtn = conda_env, the sample using direct env construct code"
   ]
  },
  {
   "cell_type": "code",
   "execution_count": null,
   "metadata": {},
   "outputs": [],
   "source": []
  }
 ],
 "metadata": {
  "kernelspec": {
   "display_name": "Python 3.10.4 ('dpv2')",
   "language": "python",
   "name": "python3"
  },
  "language_info": {
   "codemirror_mode": {
    "name": "ipython",
    "version": 3
   },
   "file_extension": ".py",
   "mimetype": "text/x-python",
   "name": "python",
   "nbconvert_exporter": "python",
   "pygments_lexer": "ipython3",
   "version": "3.10.4"
  },
  "orig_nbformat": 4,
  "vscode": {
   "interpreter": {
    "hash": "fd93e304daff9e4e686bfc9607973de377fed28736a52eb30bf8c94fedb78ed2"
   }
  }
 },
 "nbformat": 4,
 "nbformat_minor": 2
}
