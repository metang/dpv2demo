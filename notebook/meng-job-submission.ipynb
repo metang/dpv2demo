{
 "cells": [
  {
   "cell_type": "code",
   "execution_count": 4,
   "metadata": {},
   "outputs": [],
   "source": [
    "from azure.ai.ml import MLClient\n",
    "from azure.identity import DefaultAzureCredential\n",
    "\n",
    "sub_id = \"b746917e-ceb7-4ae0-81e6-3ccd893cb0de\"\n",
    "rg = \"dpv2\"\n",
    "workspace = \"dpv2-wks\"\n",
    "\n",
    "ml_client = MLClient(DefaultAzureCredential(),  sub_id, rg, workspace)"
   ]
  },
  {
   "cell_type": "code",
   "execution_count": 5,
   "metadata": {},
   "outputs": [
    {
     "name": "stdout",
     "output_type": "stream",
     "text": [
      "AmlCompute({'type': 'amlcompute', 'created_on': None, 'provisioning_state': 'Succeeded', 'provisioning_errors': None, 'name': 'cpu-cluster', 'description': None, 'tags': {}, 'properties': {}, 'id': '/subscriptions/b746917e-ceb7-4ae0-81e6-3ccd893cb0de/resourceGroups/dpv2/providers/Microsoft.MachineLearningServices/workspaces/dpv2-wks/computes/cpu-cluster', 'Resource__source_path': None, 'base_path': 'd:\\\\code\\\\azureml-examples\\\\sdk\\\\jobs\\\\single-step\\\\lightgbm\\\\iris', 'creation_context': None, 'serialize': <msrest.serialization.Serializer object at 0x000001C629B4F5B0>, 'resource_id': None, 'location': 'eastus', 'size': 'STANDARD_DS3_V2', 'min_instances': 0, 'max_instances': 2, 'idle_time_before_scale_down': 120.0, 'identity': None, 'ssh_public_access_enabled': True, 'ssh_settings': None, 'network_settings': None, 'tier': 'dedicated'})\n"
     ]
    }
   ],
   "source": [
    "from azure.ai.ml.entities import AmlCompute\n",
    "\n",
    "cluster = ml_client.compute.get(\"cpu-cluster\")\n",
    "\n",
    "print(cluster)"
   ]
  },
  {
   "cell_type": "code",
   "execution_count": 19,
   "metadata": {},
   "outputs": [],
   "source": [
    "from azure.ai.ml import command, Input\n",
    "\n",
    "job = command(\n",
    "    code = \"./src\",\n",
    "    command = \"python main.py --iris-csv ${{inputs.iris}} --learning-rate ${{inputs.lr}} --boosting ${{inputs.boosting}}\",\n",
    "    environment=\"AzureML-lightgbm-3.2-ubuntu18.04-py37-cpu@latest\",\n",
    "    inputs={\n",
    "        \"iris\": Input(type=\"uri_file\", path=\"https://azuremlexamples.blob.core.windows.net/datasets/iris.csv\",),\n",
    "        \"lr\": 0.9,\n",
    "        \"boosting\": \"gbdt\",\n",
    "    },\n",
    "    compute=\"cpu-cluster\",     \n",
    ")"
   ]
  },
  {
   "cell_type": "code",
   "execution_count": 20,
   "metadata": {},
   "outputs": [
    {
     "data": {
      "text/plain": [
       "'https://ml.azure.com/runs/shy_gas_4k8h824pbv?wsid=/subscriptions/b746917e-ceb7-4ae0-81e6-3ccd893cb0de/resourcegroups/dpv2/workspaces/dpv2-wks&tid=9c37dc6f-e051-496f-832c-e4fcf894c611'"
      ]
     },
     "execution_count": 20,
     "metadata": {},
     "output_type": "execute_result"
    }
   ],
   "source": [
    "ret_job = ml_client.jobs.create_or_update(job)\n",
    "ret_job.services[\"Studio\"].endpoint"
   ]
  },
  {
   "cell_type": "code",
   "execution_count": 10,
   "metadata": {},
   "outputs": [
    {
     "name": "stdout",
     "output_type": "stream",
     "text": [
      "$schema: '{}'\n",
      "type: command\n",
      "inputs:\n",
      "  iris:\n",
      "    mode: ro_mount\n",
      "    type: uri_file\n",
      "    path: azureml:https://azuremlexamples.blob.core.windows.net/datasets/iris.csv\n",
      "  lr: '0.9'\n",
      "  boosting: gbdt\n",
      "outputs:\n",
      "  default:\n",
      "    mode: rw_mount\n",
      "    type: uri_folder\n",
      "    path: azureml://datastores/workspaceartifactstore/ExperimentRun/dcid.frosty_whale_x1zc7l5323\n",
      "command: python.py main.py --iris-csv ${{inputs.iris}} --learning-rate ${{inputs.lr}}\n",
      "  --boosting ${{inputs.boosting}}\n",
      "environment: azureml:AzureML-lightgbm-3.2-ubuntu18.04-py37-cpu:46\n",
      "code: azureml:/subscriptions/b746917e-ceb7-4ae0-81e6-3ccd893cb0de/resourceGroups/dpv2/providers/Microsoft.MachineLearningServices/workspaces/dpv2-wks/codes/b5200222-af6b-438d-a5d6-b035ff8256d7/versions/1\n",
      "resources:\n",
      "  instance_count: 1\n",
      "  properties: {}\n",
      "compute: azureml:cpu-cluster\n",
      "environment_variables: {}\n",
      "component:\n",
      "  name: frosty_whale_x1zc7l5323\n",
      "  display_name: frosty_whale_x1zc7l5323\n",
      "  type: command\n",
      "  inputs:\n",
      "    iris:\n",
      "      type: uri_file\n",
      "    lr:\n",
      "      type: string\n",
      "      default: '0.9'\n",
      "    boosting:\n",
      "      type: string\n",
      "      default: gbdt\n",
      "  outputs:\n",
      "    default:\n",
      "      type: uri_folder\n",
      "  command: python.py main.py --iris-csv ${{inputs.iris}} --learning-rate ${{inputs.lr}}\n",
      "    --boosting ${{inputs.boosting}}\n",
      "  environment: azureml:/subscriptions/b746917e-ceb7-4ae0-81e6-3ccd893cb0de/resourceGroups/dpv2/providers/Microsoft.MachineLearningServices/workspaces/dpv2-wks/environments/AzureML-lightgbm-3.2-ubuntu18.04-py37-cpu/versions/46\n",
      "  code: azureml:/subscriptions/b746917e-ceb7-4ae0-81e6-3ccd893cb0de/resourceGroups/dpv2/providers/Microsoft.MachineLearningServices/workspaces/dpv2-wks/codes/b5200222-af6b-438d-a5d6-b035ff8256d7/versions/1\n",
      "  is_deterministic: true\n",
      "  creation_context:\n",
      "    created_at: '2022-09-11T23:18:22.078750+00:00'\n",
      "    created_by: Meng Tang\n",
      "    created_by_type: User\n",
      "  tags: {}\n",
      "\n"
     ]
    }
   ],
   "source": [
    "print(ret_job)"
   ]
  },
  {
   "cell_type": "code",
   "execution_count": 23,
   "metadata": {},
   "outputs": [],
   "source": [
    "from azure.ai.ml.sweep import Choice, Uniform, MedianStoppingPolicy\n",
    "sweep_job = job(\n",
    "    lr = Uniform(min_value=0.01, max_value=0.9),\n",
    "    boosting=Choice(values=[\"gbdt\",\"dart\"]),\n",
    ")"
   ]
  },
  {
   "cell_type": "code",
   "execution_count": 24,
   "metadata": {},
   "outputs": [],
   "source": [
    "sweep_job_def = sweep_job.sweep(\n",
    "    sampling_algorithm=\"random\",\n",
    "    primary_metric=\"test-multi_logloss\",\n",
    "    goal=\"Minimize\"\n",
    ")\n",
    "\n",
    "sweep_job_def.set_limits(max_total_trials=20, max_concurrent_trials=10, timeout=7200)"
   ]
  },
  {
   "cell_type": "code",
   "execution_count": 25,
   "metadata": {},
   "outputs": [
    {
     "data": {
      "text/plain": [
       "'https://ml.azure.com/runs/sincere_tray_tmrxvkcy7b?wsid=/subscriptions/b746917e-ceb7-4ae0-81e6-3ccd893cb0de/resourcegroups/dpv2/workspaces/dpv2-wks&tid=9c37dc6f-e051-496f-832c-e4fcf894c611'"
      ]
     },
     "execution_count": 25,
     "metadata": {},
     "output_type": "execute_result"
    }
   ],
   "source": [
    "ret_job = ml_client.create_or_update(sweep_job_def)\n",
    "ret_job.services[\"Studio\"].endpoint"
   ]
  },
  {
   "cell_type": "code",
   "execution_count": 26,
   "metadata": {},
   "outputs": [],
   "source": [
    "# define component\n",
    "iris_componet = command(\n",
    "    code = \"./src\",\n",
    "    command = \"python main.py --iris-csv ${{inputs.iris}} --learning-rate ${{inputs.lr}} --boosting ${{inputs.boosting}}\",\n",
    "    environment=\"AzureML-lightgbm-3.2-ubuntu18.04-py37-cpu@latest\",\n",
    "    inputs={\n",
    "        \"iris\": Input(type=\"uri_file\", path=\"https://azuremlexamples.blob.core.windows.net/datasets/iris.csv\",),\n",
    "        \"lr\": 0.9,\n",
    "        \"boosting\": \"gbdt\",\n",
    "    },\n",
    "    display_name = \"iris lightgbm example\",     \n",
    "    description=\"Train a lightgbm model on the iris dataset\"\n",
    ")\n",
    "\n"
   ]
  },
  {
   "cell_type": "code",
   "execution_count": null,
   "metadata": {},
   "outputs": [],
   "source": [
    "# run sweep using this component\n",
    "# this time we will provide in input for iris_csv since no default was provide at compnent definition\n",
    "command_component_job_for_sweep = iris_component(\n",
    "    learning_rate=Uniform(min_value=0.01, max_value=0.9),\n",
    "    boosting=Choice(values=[\"gbdt\", \"dart\"]),\n",
    "    iris_csv=Input(\n",
    "        type=\"uri_file\",\n",
    "        path=\"wasbs://datasets@azuremlexamples.blob.core.windows.net/iris.csv\",\n",
    "    ),\n",
    ")\n",
    "\n",
    "# this is the same as above\n",
    "cmd_component_sweep_job = command_component_job_for_sweep.sweep(\n",
    "    compute=\"cpu-cluster\",\n",
    "    sampling_algorithm=\"random\",\n",
    "    primary_metric=\"test-multi_logloss\",\n",
    "    goal=\"Minimize\",\n",
    ")\n",
    "\n",
    "cmd_component_sweep_job.display_name = \"lightgbm-iris-sweep-example\"\n",
    "cmd_component_sweep_job.experiment_name = \"lightgbm-iris-sweep-example\"\n",
    "cmd_component_sweep_job.description = (\n",
    "    \"Run a hyperparameter sweep job for LightGBM on Iris dataset.\"\n",
    ")\n",
    "\n",
    "# define the limits for this sweep\n",
    "cmd_component_sweep_job.set_limits(\n",
    "    max_total_trials=20, max_concurrent_trials=10, timeout=7200\n",
    ")\n",
    "\n",
    "# set early stopping on this one\n",
    "cmd_component_sweep_job.early_termination = MedianStoppingPolicy(\n",
    "    delay_evaluation=5, evaluation_interval=2\n",
    ")"
   ]
  }
 ],
 "metadata": {
  "kernelspec": {
   "display_name": "Python 3.10.4 ('dpv2')",
   "language": "python",
   "name": "python3"
  },
  "language_info": {
   "codemirror_mode": {
    "name": "ipython",
    "version": 3
   },
   "file_extension": ".py",
   "mimetype": "text/x-python",
   "name": "python",
   "nbconvert_exporter": "python",
   "pygments_lexer": "ipython3",
   "version": "3.10.4"
  },
  "orig_nbformat": 4,
  "vscode": {
   "interpreter": {
    "hash": "fd93e304daff9e4e686bfc9607973de377fed28736a52eb30bf8c94fedb78ed2"
   }
  }
 },
 "nbformat": 4,
 "nbformat_minor": 2
}
