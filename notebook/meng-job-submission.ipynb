{
 "cells": [
  {
   "cell_type": "code",
   "execution_count": 1,
   "metadata": {},
   "outputs": [],
   "source": [
    "from azure.ai.ml import MLClient\n",
    "from azure.identity import DefaultAzureCredential\n",
    "\n",
    "sub_id = \"b746917e-ceb7-4ae0-81e6-3ccd893cb0de\"\n",
    "rg = \"dpv2\"\n",
    "workspace = \"dpv2-wks\"\n",
    "\n",
    "ml_client = MLClient(DefaultAzureCredential(),  sub_id, rg, workspace)"
   ]
  },
  {
   "cell_type": "code",
   "execution_count": 2,
   "metadata": {},
   "outputs": [
    {
     "name": "stdout",
     "output_type": "stream",
     "text": [
      "AmlCompute({'type': 'amlcompute', 'created_on': None, 'provisioning_state': 'Succeeded', 'provisioning_errors': None, 'name': 'cpu-cluster', 'description': None, 'tags': {}, 'properties': {}, 'id': '/subscriptions/b746917e-ceb7-4ae0-81e6-3ccd893cb0de/resourceGroups/dpv2/providers/Microsoft.MachineLearningServices/workspaces/dpv2-wks/computes/cpu-cluster', 'Resource__source_path': None, 'base_path': 'd:\\\\code\\\\dpv2demo\\\\notebook', 'creation_context': None, 'serialize': <msrest.serialization.Serializer object at 0x0000026B0AB967D0>, 'resource_id': None, 'location': 'eastus', 'size': 'STANDARD_DS3_V2', 'min_instances': 0, 'max_instances': 2, 'idle_time_before_scale_down': 120.0, 'identity': None, 'ssh_public_access_enabled': True, 'ssh_settings': None, 'network_settings': None, 'tier': 'dedicated'})\n"
     ]
    }
   ],
   "source": [
    "from azure.ai.ml.entities import AmlCompute\n",
    "\n",
    "cluster = ml_client.compute.get(\"cpu-cluster\")\n",
    "\n",
    "print(cluster)"
   ]
  },
  {
   "cell_type": "code",
   "execution_count": 3,
   "metadata": {},
   "outputs": [],
   "source": [
    "from azure.ai.ml import command, Input\n",
    "\n",
    "job = command(\n",
    "    code = \"./src\",\n",
    "    command = \"python main.py --iris-csv ${{inputs.iris}} --learning-rate ${{inputs.lr}} --boosting ${{inputs.boosting}}\",\n",
    "    environment=\"AzureML-lightgbm-3.2-ubuntu18.04-py37-cpu@latest\",\n",
    "    inputs={\n",
    "        \"iris\": Input(type=\"uri_file\", path=\"https://azuremlexamples.blob.core.windows.net/datasets/iris.csv\",),\n",
    "        \"lr\": 0.9,\n",
    "        \"boosting\": \"gbdt\",\n",
    "    },\n",
    "    compute=\"cpu-cluster\",     \n",
    ")"
   ]
  },
  {
   "cell_type": "code",
   "execution_count": 4,
   "metadata": {},
   "outputs": [
    {
     "data": {
      "text/plain": [
       "'https://ml.azure.com/runs/sweet_coconut_b6r4s0ndt5?wsid=/subscriptions/b746917e-ceb7-4ae0-81e6-3ccd893cb0de/resourcegroups/dpv2/workspaces/dpv2-wks&tid=9c37dc6f-e051-496f-832c-e4fcf894c611'"
      ]
     },
     "execution_count": 4,
     "metadata": {},
     "output_type": "execute_result"
    }
   ],
   "source": [
    "ret_job = ml_client.jobs.create_or_update(job)\n",
    "ret_job.services[\"Studio\"].endpoint"
   ]
  },
  {
   "cell_type": "code",
   "execution_count": 5,
   "metadata": {},
   "outputs": [
    {
     "name": "stdout",
     "output_type": "stream",
     "text": [
      "$schema: '{}'\n",
      "type: command\n",
      "inputs:\n",
      "  iris:\n",
      "    mode: ro_mount\n",
      "    type: uri_file\n",
      "    path: azureml:https://azuremlexamples.blob.core.windows.net/datasets/iris.csv\n",
      "  lr: '0.9'\n",
      "  boosting: gbdt\n",
      "outputs:\n",
      "  default:\n",
      "    mode: rw_mount\n",
      "    type: uri_folder\n",
      "    path: azureml://datastores/workspaceartifactstore/ExperimentRun/dcid.sweet_coconut_b6r4s0ndt5\n",
      "command: python main.py --iris-csv ${{inputs.iris}} --learning-rate ${{inputs.lr}}\n",
      "  --boosting ${{inputs.boosting}}\n",
      "environment: azureml:AzureML-lightgbm-3.2-ubuntu18.04-py37-cpu:46\n",
      "code: azureml:/subscriptions/b746917e-ceb7-4ae0-81e6-3ccd893cb0de/resourceGroups/dpv2/providers/Microsoft.MachineLearningServices/workspaces/dpv2-wks/codes/b5200222-af6b-438d-a5d6-b035ff8256d7/versions/1\n",
      "resources:\n",
      "  instance_count: 1\n",
      "  properties: {}\n",
      "compute: azureml:cpu-cluster\n",
      "environment_variables: {}\n",
      "component:\n",
      "  name: sweet_coconut_b6r4s0ndt5\n",
      "  display_name: sweet_coconut_b6r4s0ndt5\n",
      "  type: command\n",
      "  inputs:\n",
      "    iris:\n",
      "      type: uri_file\n",
      "    lr:\n",
      "      type: string\n",
      "      default: '0.9'\n",
      "    boosting:\n",
      "      type: string\n",
      "      default: gbdt\n",
      "  outputs:\n",
      "    default:\n",
      "      type: uri_folder\n",
      "  command: python main.py --iris-csv ${{inputs.iris}} --learning-rate ${{inputs.lr}}\n",
      "    --boosting ${{inputs.boosting}}\n",
      "  environment: azureml:/subscriptions/b746917e-ceb7-4ae0-81e6-3ccd893cb0de/resourceGroups/dpv2/providers/Microsoft.MachineLearningServices/workspaces/dpv2-wks/environments/AzureML-lightgbm-3.2-ubuntu18.04-py37-cpu/versions/46\n",
      "  code: azureml:/subscriptions/b746917e-ceb7-4ae0-81e6-3ccd893cb0de/resourceGroups/dpv2/providers/Microsoft.MachineLearningServices/workspaces/dpv2-wks/codes/b5200222-af6b-438d-a5d6-b035ff8256d7/versions/1\n",
      "  tags: {}\n",
      "  creation_context:\n",
      "    created_at: '2022-09-12T03:14:05.033571+00:00'\n",
      "    created_by: Meng Tang\n",
      "    created_by_type: User\n",
      "  is_deterministic: true\n",
      "\n"
     ]
    }
   ],
   "source": [
    "print(ret_job)"
   ]
  },
  {
   "cell_type": "code",
   "execution_count": 6,
   "metadata": {},
   "outputs": [],
   "source": [
    "from azure.ai.ml.sweep import Choice, Uniform, MedianStoppingPolicy\n",
    "sweep_job = job(\n",
    "    lr = Uniform(min_value=0.01, max_value=0.9),\n",
    "    boosting=Choice(values=[\"gbdt\",\"dart\"]),\n",
    ")"
   ]
  },
  {
   "cell_type": "code",
   "execution_count": 7,
   "metadata": {},
   "outputs": [],
   "source": [
    "sweep_job_def = sweep_job.sweep(\n",
    "    sampling_algorithm=\"random\",\n",
    "    primary_metric=\"test-multi_logloss\",\n",
    "    goal=\"Minimize\"\n",
    ")\n",
    "\n",
    "sweep_job_def.set_limits(max_total_trials=20, max_concurrent_trials=10, timeout=7200)"
   ]
  },
  {
   "cell_type": "code",
   "execution_count": 8,
   "metadata": {},
   "outputs": [
    {
     "data": {
      "text/plain": [
       "'https://ml.azure.com/runs/sincere_snail_bny34prmt4?wsid=/subscriptions/b746917e-ceb7-4ae0-81e6-3ccd893cb0de/resourcegroups/dpv2/workspaces/dpv2-wks&tid=9c37dc6f-e051-496f-832c-e4fcf894c611'"
      ]
     },
     "execution_count": 8,
     "metadata": {},
     "output_type": "execute_result"
    }
   ],
   "source": [
    "ret_job = ml_client.create_or_update(sweep_job_def)\n",
    "ret_job.services[\"Studio\"].endpoint"
   ]
  },
  {
   "cell_type": "code",
   "execution_count": 9,
   "metadata": {},
   "outputs": [],
   "source": [
    "# define component\n",
    "iris_componet = command(\n",
    "    code = \"./src\",\n",
    "    command = \"python main.py --iris-csv ${{inputs.iris}} --learning-rate ${{inputs.lr}} --boosting ${{inputs.boosting}}\",\n",
    "    environment=\"AzureML-lightgbm-3.2-ubuntu18.04-py37-cpu@latest\",\n",
    "    inputs={\n",
    "        \"iris\": Input(type=\"uri_file\", path=\"https://azuremlexamples.blob.core.windows.net/datasets/iris.csv\",),\n",
    "        \"lr\": 0.9,\n",
    "        \"boosting\": \"gbdt\",\n",
    "    },\n",
    "    display_name = \"iris lightgbm example\",     \n",
    "    description=\"Train a lightgbm model on the iris dataset\"\n",
    ")\n",
    "\n"
   ]
  },
  {
   "cell_type": "code",
   "execution_count": 10,
   "metadata": {},
   "outputs": [
    {
     "ename": "NameError",
     "evalue": "name 'iris_component' is not defined",
     "output_type": "error",
     "traceback": [
      "\u001b[1;31m---------------------------------------------------------------------------\u001b[0m",
      "\u001b[1;31mNameError\u001b[0m                                 Traceback (most recent call last)",
      "\u001b[1;32md:\\code\\dpv2demo\\notebook\\meng-job-submission.ipynb Cell 10\u001b[0m in \u001b[0;36m<cell line: 3>\u001b[1;34m()\u001b[0m\n\u001b[0;32m      <a href='vscode-notebook-cell:/d%3A/code/dpv2demo/notebook/meng-job-submission.ipynb#X12sZmlsZQ%3D%3D?line=0'>1</a>\u001b[0m \u001b[39m# run sweep using this component\u001b[39;00m\n\u001b[0;32m      <a href='vscode-notebook-cell:/d%3A/code/dpv2demo/notebook/meng-job-submission.ipynb#X12sZmlsZQ%3D%3D?line=1'>2</a>\u001b[0m \u001b[39m# this time we will provide in input for iris_csv since no default was provide at compnent definition\u001b[39;00m\n\u001b[1;32m----> <a href='vscode-notebook-cell:/d%3A/code/dpv2demo/notebook/meng-job-submission.ipynb#X12sZmlsZQ%3D%3D?line=2'>3</a>\u001b[0m command_component_job_for_sweep \u001b[39m=\u001b[39m iris_component(\n\u001b[0;32m      <a href='vscode-notebook-cell:/d%3A/code/dpv2demo/notebook/meng-job-submission.ipynb#X12sZmlsZQ%3D%3D?line=3'>4</a>\u001b[0m     learning_rate\u001b[39m=\u001b[39mUniform(min_value\u001b[39m=\u001b[39m\u001b[39m0.01\u001b[39m, max_value\u001b[39m=\u001b[39m\u001b[39m0.9\u001b[39m),\n\u001b[0;32m      <a href='vscode-notebook-cell:/d%3A/code/dpv2demo/notebook/meng-job-submission.ipynb#X12sZmlsZQ%3D%3D?line=4'>5</a>\u001b[0m     boosting\u001b[39m=\u001b[39mChoice(values\u001b[39m=\u001b[39m[\u001b[39m\"\u001b[39m\u001b[39mgbdt\u001b[39m\u001b[39m\"\u001b[39m, \u001b[39m\"\u001b[39m\u001b[39mdart\u001b[39m\u001b[39m\"\u001b[39m]),\n\u001b[0;32m      <a href='vscode-notebook-cell:/d%3A/code/dpv2demo/notebook/meng-job-submission.ipynb#X12sZmlsZQ%3D%3D?line=5'>6</a>\u001b[0m     iris_csv\u001b[39m=\u001b[39mInput(\n\u001b[0;32m      <a href='vscode-notebook-cell:/d%3A/code/dpv2demo/notebook/meng-job-submission.ipynb#X12sZmlsZQ%3D%3D?line=6'>7</a>\u001b[0m         \u001b[39mtype\u001b[39m\u001b[39m=\u001b[39m\u001b[39m\"\u001b[39m\u001b[39muri_file\u001b[39m\u001b[39m\"\u001b[39m,\n\u001b[0;32m      <a href='vscode-notebook-cell:/d%3A/code/dpv2demo/notebook/meng-job-submission.ipynb#X12sZmlsZQ%3D%3D?line=7'>8</a>\u001b[0m         path\u001b[39m=\u001b[39m\u001b[39m\"\u001b[39m\u001b[39mwasbs://datasets@azuremlexamples.blob.core.windows.net/iris.csv\u001b[39m\u001b[39m\"\u001b[39m,\n\u001b[0;32m      <a href='vscode-notebook-cell:/d%3A/code/dpv2demo/notebook/meng-job-submission.ipynb#X12sZmlsZQ%3D%3D?line=8'>9</a>\u001b[0m     ),\n\u001b[0;32m     <a href='vscode-notebook-cell:/d%3A/code/dpv2demo/notebook/meng-job-submission.ipynb#X12sZmlsZQ%3D%3D?line=9'>10</a>\u001b[0m )\n\u001b[0;32m     <a href='vscode-notebook-cell:/d%3A/code/dpv2demo/notebook/meng-job-submission.ipynb#X12sZmlsZQ%3D%3D?line=11'>12</a>\u001b[0m \u001b[39m# this is the same as above\u001b[39;00m\n\u001b[0;32m     <a href='vscode-notebook-cell:/d%3A/code/dpv2demo/notebook/meng-job-submission.ipynb#X12sZmlsZQ%3D%3D?line=12'>13</a>\u001b[0m cmd_component_sweep_job \u001b[39m=\u001b[39m command_component_job_for_sweep\u001b[39m.\u001b[39msweep(\n\u001b[0;32m     <a href='vscode-notebook-cell:/d%3A/code/dpv2demo/notebook/meng-job-submission.ipynb#X12sZmlsZQ%3D%3D?line=13'>14</a>\u001b[0m     compute\u001b[39m=\u001b[39m\u001b[39m\"\u001b[39m\u001b[39mcpu-cluster\u001b[39m\u001b[39m\"\u001b[39m,\n\u001b[0;32m     <a href='vscode-notebook-cell:/d%3A/code/dpv2demo/notebook/meng-job-submission.ipynb#X12sZmlsZQ%3D%3D?line=14'>15</a>\u001b[0m     sampling_algorithm\u001b[39m=\u001b[39m\u001b[39m\"\u001b[39m\u001b[39mrandom\u001b[39m\u001b[39m\"\u001b[39m,\n\u001b[0;32m     <a href='vscode-notebook-cell:/d%3A/code/dpv2demo/notebook/meng-job-submission.ipynb#X12sZmlsZQ%3D%3D?line=15'>16</a>\u001b[0m     primary_metric\u001b[39m=\u001b[39m\u001b[39m\"\u001b[39m\u001b[39mtest-multi_logloss\u001b[39m\u001b[39m\"\u001b[39m,\n\u001b[0;32m     <a href='vscode-notebook-cell:/d%3A/code/dpv2demo/notebook/meng-job-submission.ipynb#X12sZmlsZQ%3D%3D?line=16'>17</a>\u001b[0m     goal\u001b[39m=\u001b[39m\u001b[39m\"\u001b[39m\u001b[39mMinimize\u001b[39m\u001b[39m\"\u001b[39m,\n\u001b[0;32m     <a href='vscode-notebook-cell:/d%3A/code/dpv2demo/notebook/meng-job-submission.ipynb#X12sZmlsZQ%3D%3D?line=17'>18</a>\u001b[0m )\n",
      "\u001b[1;31mNameError\u001b[0m: name 'iris_component' is not defined"
     ]
    }
   ],
   "source": [
    "# run sweep using this component\n",
    "# this time we will provide in input for iris_csv since no default was provide at compnent definition\n",
    "command_component_job_for_sweep = iris_component(\n",
    "    learning_rate=Uniform(min_value=0.01, max_value=0.9),\n",
    "    boosting=Choice(values=[\"gbdt\", \"dart\"]),\n",
    "    iris_csv=Input(\n",
    "        type=\"uri_file\",\n",
    "        path=\"wasbs://datasets@azuremlexamples.blob.core.windows.net/iris.csv\",\n",
    "    ),\n",
    ")\n",
    "\n",
    "# this is the same as above\n",
    "cmd_component_sweep_job = command_component_job_for_sweep.sweep(\n",
    "    compute=\"cpu-cluster\",\n",
    "    sampling_algorithm=\"random\",\n",
    "    primary_metric=\"test-multi_logloss\",\n",
    "    goal=\"Minimize\",\n",
    ")\n",
    "\n",
    "cmd_component_sweep_job.display_name = \"lightgbm-iris-sweep-example\"\n",
    "cmd_component_sweep_job.experiment_name = \"lightgbm-iris-sweep-example\"\n",
    "cmd_component_sweep_job.description = (\n",
    "    \"Run a hyperparameter sweep job for LightGBM on Iris dataset.\"\n",
    ")\n",
    "\n",
    "# define the limits for this sweep\n",
    "cmd_component_sweep_job.set_limits(\n",
    "    max_total_trials=20, max_concurrent_trials=10, timeout=7200\n",
    ")\n",
    "\n",
    "# set early stopping on this one\n",
    "cmd_component_sweep_job.early_termination = MedianStoppingPolicy(\n",
    "    delay_evaluation=5, evaluation_interval=2\n",
    ")"
   ]
  }
 ],
 "metadata": {
  "kernelspec": {
   "display_name": "Python 3.10.4 ('dpv2')",
   "language": "python",
   "name": "python3"
  },
  "language_info": {
   "codemirror_mode": {
    "name": "ipython",
    "version": 3
   },
   "file_extension": ".py",
   "mimetype": "text/x-python",
   "name": "python",
   "nbconvert_exporter": "python",
   "pygments_lexer": "ipython3",
   "version": "3.10.4"
  },
  "orig_nbformat": 4,
  "vscode": {
   "interpreter": {
    "hash": "fd93e304daff9e4e686bfc9607973de377fed28736a52eb30bf8c94fedb78ed2"
   }
  }
 },
 "nbformat": 4,
 "nbformat_minor": 2
}
