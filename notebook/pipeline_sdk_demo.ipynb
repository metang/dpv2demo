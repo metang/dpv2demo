{
 "cells": [
  {
   "cell_type": "code",
   "execution_count": 1,
   "metadata": {},
   "outputs": [],
   "source": [
    "from azure.ai.ml import MLClient\n",
    "from azure.identity import DefaultAzureCredential\n",
    "from azure.ai.ml.dsl import pipeline\n",
    "from azure.ai.ml import load_component"
   ]
  },
  {
   "cell_type": "code",
   "execution_count": 2,
   "metadata": {},
   "outputs": [],
   "source": [
    "from azure.ai.ml import Input\n",
    "fashion_ds = Input(\n",
    "    # why there is no type here. Is this input a uri_folder, or just a string?\n",
    "    path=\"wasbs://demo@data4mldemo6150520719.blob.core.windows.net/mnist-fashion/\"\n",
    ")"
   ]
  },
  {
   "cell_type": "code",
   "execution_count": 4,
   "metadata": {},
   "outputs": [
    {
     "name": "stderr",
     "output_type": "stream",
     "text": [
      "[2022-09-12 11:40:37,779][mldesigner][WARNING] - Mldesigner requires azure-ai-ml >= 0.1.0b7 package to be fully functional.It's highly recommended to install the latest azure-ai-ml package.\n"
     ]
    }
   ],
   "source": [
    "import os\n",
    "from pathlib import Path\n",
    "from mldesigner import command_component, Input, Output"
   ]
  },
  {
   "cell_type": "code",
   "execution_count": 9,
   "metadata": {},
   "outputs": [
    {
     "ename": "AttributeError",
     "evalue": "type object 'CommandComponent' has no attribute '_load_from_dict'",
     "output_type": "error",
     "traceback": [
      "\u001b[1;31m---------------------------------------------------------------------------\u001b[0m",
      "\u001b[1;31mModuleNotFoundError\u001b[0m                       Traceback (most recent call last)",
      "File \u001b[1;32mc:\\Users\\tangm\\anaconda3\\envs\\dpv2\\lib\\site-packages\\mldesigner\\_dependent_component_executor.py:74\u001b[0m, in \u001b[0;36mDependentComponentExecutor.component\u001b[1;34m(self)\u001b[0m\n\u001b[0;32m     72\u001b[0m \u001b[39mtry\u001b[39;00m:\n\u001b[0;32m     73\u001b[0m     \u001b[39m# package version: azure.ai.ml > 0.1.0b4\u001b[39;00m\n\u001b[1;32m---> 74\u001b[0m     \u001b[39mfrom\u001b[39;00m \u001b[39mazure\u001b[39;00m\u001b[39m.\u001b[39;00m\u001b[39mai\u001b[39;00m\u001b[39m.\u001b[39;00m\u001b[39mml\u001b[39;00m\u001b[39m.\u001b[39;00m\u001b[39mconstants\u001b[39;00m\u001b[39m.\u001b[39;00m\u001b[39m_component\u001b[39;00m \u001b[39mimport\u001b[39;00m NodeType\n\u001b[0;32m     75\u001b[0m     \u001b[39mfrom\u001b[39;00m \u001b[39mazure\u001b[39;00m\u001b[39m.\u001b[39;00m\u001b[39mai\u001b[39;00m\u001b[39m.\u001b[39;00m\u001b[39mml\u001b[39;00m\u001b[39m.\u001b[39;00m\u001b[39mentities\u001b[39;00m\u001b[39m.\u001b[39;00m\u001b[39m_component\u001b[39;00m\u001b[39m.\u001b[39;00m\u001b[39mcomponent_factory\u001b[39;00m \u001b[39mimport\u001b[39;00m component_factory\n",
      "\u001b[1;31mModuleNotFoundError\u001b[0m: No module named 'azure.ai.ml.constants._component'; 'azure.ai.ml.constants' is not a package",
      "\nDuring handling of the above exception, another exception occurred:\n",
      "\u001b[1;31mAttributeError\u001b[0m                            Traceback (most recent call last)",
      "\u001b[1;32md:\\code\\dpv2demo\\notebook\\pipeline_sdk_demo.ipynb Cell 4\u001b[0m in \u001b[0;36m<cell line: 1>\u001b[1;34m()\u001b[0m\n\u001b[0;32m      <a href='vscode-notebook-cell:/d%3A/code/dpv2demo/notebook/pipeline_sdk_demo.ipynb#W3sZmlsZQ%3D%3D?line=0'>1</a>\u001b[0m \u001b[39m@command_component\u001b[39;49m(\n\u001b[0;32m      <a href='vscode-notebook-cell:/d%3A/code/dpv2demo/notebook/pipeline_sdk_demo.ipynb#W3sZmlsZQ%3D%3D?line=1'>2</a>\u001b[0m     name \u001b[39m=\u001b[39;49m \u001b[39m\"\u001b[39;49m\u001b[39mprep_data\u001b[39;49m\u001b[39m\"\u001b[39;49m,\n\u001b[0;32m      <a href='vscode-notebook-cell:/d%3A/code/dpv2demo/notebook/pipeline_sdk_demo.ipynb#W3sZmlsZQ%3D%3D?line=2'>3</a>\u001b[0m     version \u001b[39m=\u001b[39;49m \u001b[39m\"\u001b[39;49m\u001b[39m1\u001b[39;49m\u001b[39m\"\u001b[39;49m,\n\u001b[0;32m      <a href='vscode-notebook-cell:/d%3A/code/dpv2demo/notebook/pipeline_sdk_demo.ipynb#W3sZmlsZQ%3D%3D?line=3'>4</a>\u001b[0m     display_name\u001b[39m=\u001b[39;49m\u001b[39m\"\u001b[39;49m\u001b[39mData Preparation\u001b[39;49m\u001b[39m\"\u001b[39;49m,\n\u001b[0;32m      <a href='vscode-notebook-cell:/d%3A/code/dpv2demo/notebook/pipeline_sdk_demo.ipynb#W3sZmlsZQ%3D%3D?line=4'>5</a>\u001b[0m     description\u001b[39m=\u001b[39;49m\u001b[39m\"\u001b[39;49m\u001b[39mConvert data to csv file, then split to training and test data\u001b[39;49m\u001b[39m\"\u001b[39;49m,\n\u001b[0;32m      <a href='vscode-notebook-cell:/d%3A/code/dpv2demo/notebook/pipeline_sdk_demo.ipynb#W3sZmlsZQ%3D%3D?line=5'>6</a>\u001b[0m     environment\u001b[39m=\u001b[39;49m\u001b[39mdict\u001b[39;49m(\n\u001b[0;32m      <a href='vscode-notebook-cell:/d%3A/code/dpv2demo/notebook/pipeline_sdk_demo.ipynb#W3sZmlsZQ%3D%3D?line=6'>7</a>\u001b[0m         \u001b[39m#conda_file=Path(__file__).parent / \"conda.yaml\",\u001b[39;49;00m\n\u001b[0;32m      <a href='vscode-notebook-cell:/d%3A/code/dpv2demo/notebook/pipeline_sdk_demo.ipynb#W3sZmlsZQ%3D%3D?line=7'>8</a>\u001b[0m         \u001b[39m#conda_file=Path(os.path.abspath('')).parent / \"conda.yaml\",\u001b[39;49;00m\n\u001b[0;32m      <a href='vscode-notebook-cell:/d%3A/code/dpv2demo/notebook/pipeline_sdk_demo.ipynb#W3sZmlsZQ%3D%3D?line=8'>9</a>\u001b[0m         conda_file\u001b[39m=\u001b[39;49m \u001b[39m\"\u001b[39;49m\u001b[39m./conda.yaml\u001b[39;49m\u001b[39m\"\u001b[39;49m,\n\u001b[0;32m     <a href='vscode-notebook-cell:/d%3A/code/dpv2demo/notebook/pipeline_sdk_demo.ipynb#W3sZmlsZQ%3D%3D?line=9'>10</a>\u001b[0m         image\u001b[39m=\u001b[39;49m\u001b[39m\"\u001b[39;49m\u001b[39mmcr.microsoft.com/azureml/openmpi3.1.2-ubuntu18.04\u001b[39;49m\u001b[39m\"\u001b[39;49m,\n\u001b[0;32m     <a href='vscode-notebook-cell:/d%3A/code/dpv2demo/notebook/pipeline_sdk_demo.ipynb#W3sZmlsZQ%3D%3D?line=10'>11</a>\u001b[0m     ),\n\u001b[0;32m     <a href='vscode-notebook-cell:/d%3A/code/dpv2demo/notebook/pipeline_sdk_demo.ipynb#W3sZmlsZQ%3D%3D?line=11'>12</a>\u001b[0m )\n\u001b[1;32m---> <a href='vscode-notebook-cell:/d%3A/code/dpv2demo/notebook/pipeline_sdk_demo.ipynb#W3sZmlsZQ%3D%3D?line=12'>13</a>\u001b[0m \u001b[39mdef\u001b[39;49;00m \u001b[39mprep_data_component\u001b[39;49m(\n\u001b[0;32m     <a href='vscode-notebook-cell:/d%3A/code/dpv2demo/notebook/pipeline_sdk_demo.ipynb#W3sZmlsZQ%3D%3D?line=13'>14</a>\u001b[0m     input_data:Input(\u001b[39mtype\u001b[39;49m\u001b[39m=\u001b[39;49m\u001b[39m\"\u001b[39;49m\u001b[39muri_folder\u001b[39;49m\u001b[39m\"\u001b[39;49m),\n\u001b[0;32m     <a href='vscode-notebook-cell:/d%3A/code/dpv2demo/notebook/pipeline_sdk_demo.ipynb#W3sZmlsZQ%3D%3D?line=14'>15</a>\u001b[0m     training_data: Output(\u001b[39mtype\u001b[39;49m\u001b[39m=\u001b[39;49m\u001b[39m\"\u001b[39;49m\u001b[39muri_folder\u001b[39;49m\u001b[39m\"\u001b[39;49m),\n\u001b[0;32m     <a href='vscode-notebook-cell:/d%3A/code/dpv2demo/notebook/pipeline_sdk_demo.ipynb#W3sZmlsZQ%3D%3D?line=15'>16</a>\u001b[0m     test_data: Output(\u001b[39mtype\u001b[39;49m\u001b[39m=\u001b[39;49m\u001b[39m\"\u001b[39;49m\u001b[39muri_folder\u001b[39;49m\u001b[39m\"\u001b[39;49m,)\n\u001b[0;32m     <a href='vscode-notebook-cell:/d%3A/code/dpv2demo/notebook/pipeline_sdk_demo.ipynb#W3sZmlsZQ%3D%3D?line=16'>17</a>\u001b[0m ):\n\u001b[0;32m     <a href='vscode-notebook-cell:/d%3A/code/dpv2demo/notebook/pipeline_sdk_demo.ipynb#W3sZmlsZQ%3D%3D?line=17'>18</a>\u001b[0m     convert(\n\u001b[0;32m     <a href='vscode-notebook-cell:/d%3A/code/dpv2demo/notebook/pipeline_sdk_demo.ipynb#W3sZmlsZQ%3D%3D?line=18'>19</a>\u001b[0m         os\u001b[39m.\u001b[39;49mpath\u001b[39m.\u001b[39;49mjoin(input_data, \u001b[39m\"\u001b[39;49m\u001b[39mtrain-images-idx3-ubyte\u001b[39;49m\u001b[39m\"\u001b[39;49m),\n\u001b[0;32m     <a href='vscode-notebook-cell:/d%3A/code/dpv2demo/notebook/pipeline_sdk_demo.ipynb#W3sZmlsZQ%3D%3D?line=19'>20</a>\u001b[0m         os\u001b[39m.\u001b[39;49mpath\u001b[39m.\u001b[39;49mjoin(input_data, \u001b[39m\"\u001b[39;49m\u001b[39mtrain-labels-idx1-ubyte\u001b[39;49m\u001b[39m\"\u001b[39;49m),\n\u001b[0;32m     <a href='vscode-notebook-cell:/d%3A/code/dpv2demo/notebook/pipeline_sdk_demo.ipynb#W3sZmlsZQ%3D%3D?line=20'>21</a>\u001b[0m         os\u001b[39m.\u001b[39;49mpath\u001b[39m.\u001b[39;49mjoin(training_data, \u001b[39m\"\u001b[39;49m\u001b[39mmnist_train.csv\u001b[39;49m\u001b[39m\"\u001b[39;49m),\n\u001b[0;32m     <a href='vscode-notebook-cell:/d%3A/code/dpv2demo/notebook/pipeline_sdk_demo.ipynb#W3sZmlsZQ%3D%3D?line=21'>22</a>\u001b[0m         \u001b[39m60000\u001b[39;49m,\n\u001b[0;32m     <a href='vscode-notebook-cell:/d%3A/code/dpv2demo/notebook/pipeline_sdk_demo.ipynb#W3sZmlsZQ%3D%3D?line=22'>23</a>\u001b[0m     )\n\u001b[0;32m     <a href='vscode-notebook-cell:/d%3A/code/dpv2demo/notebook/pipeline_sdk_demo.ipynb#W3sZmlsZQ%3D%3D?line=23'>24</a>\u001b[0m     convert(\n\u001b[0;32m     <a href='vscode-notebook-cell:/d%3A/code/dpv2demo/notebook/pipeline_sdk_demo.ipynb#W3sZmlsZQ%3D%3D?line=24'>25</a>\u001b[0m         os\u001b[39m.\u001b[39;49mpath\u001b[39m.\u001b[39;49mjoin(input_data, \u001b[39m\"\u001b[39;49m\u001b[39mt10k-images-idx3-ubyte\u001b[39;49m\u001b[39m\"\u001b[39;49m),\n\u001b[0;32m     <a href='vscode-notebook-cell:/d%3A/code/dpv2demo/notebook/pipeline_sdk_demo.ipynb#W3sZmlsZQ%3D%3D?line=25'>26</a>\u001b[0m         os\u001b[39m.\u001b[39;49mpath\u001b[39m.\u001b[39;49mjoin(input_data, \u001b[39m\"\u001b[39;49m\u001b[39mt10k-labels-idx1-ubyte\u001b[39;49m\u001b[39m\"\u001b[39;49m),\n\u001b[0;32m     <a href='vscode-notebook-cell:/d%3A/code/dpv2demo/notebook/pipeline_sdk_demo.ipynb#W3sZmlsZQ%3D%3D?line=26'>27</a>\u001b[0m         os\u001b[39m.\u001b[39;49mpath\u001b[39m.\u001b[39;49mjoin(test_data, \u001b[39m\"\u001b[39;49m\u001b[39mmnist_test.csv\u001b[39;49m\u001b[39m\"\u001b[39;49m),\n\u001b[0;32m     <a href='vscode-notebook-cell:/d%3A/code/dpv2demo/notebook/pipeline_sdk_demo.ipynb#W3sZmlsZQ%3D%3D?line=27'>28</a>\u001b[0m         \u001b[39m10000\u001b[39;49m,\n\u001b[0;32m     <a href='vscode-notebook-cell:/d%3A/code/dpv2demo/notebook/pipeline_sdk_demo.ipynb#W3sZmlsZQ%3D%3D?line=28'>29</a>\u001b[0m     )\n",
      "File \u001b[1;32mc:\\Users\\tangm\\anaconda3\\envs\\dpv2\\lib\\site-packages\\mldesigner\\_component.py:192\u001b[0m, in \u001b[0;36mcommand_component.<locals>.component_func_decorator\u001b[1;34m(func)\u001b[0m\n\u001b[0;32m    190\u001b[0m wrapper\u001b[39m.\u001b[39m_executor \u001b[39m=\u001b[39m executor\n\u001b[0;32m    191\u001b[0m \u001b[39mif\u001b[39;00m EXECUTOR_CLASS \u001b[39m!=\u001b[39m ComponentExecutor:\n\u001b[1;32m--> 192\u001b[0m     wrapper\u001b[39m.\u001b[39mcomponent \u001b[39m=\u001b[39m executor\u001b[39m.\u001b[39;49mcomponent\n\u001b[0;32m    193\u001b[0m \u001b[39mreturn\u001b[39;00m wrapper\n",
      "File \u001b[1;32mc:\\Users\\tangm\\anaconda3\\envs\\dpv2\\lib\\site-packages\\mldesigner\\_dependent_component_executor.py:87\u001b[0m, in \u001b[0;36mDependentComponentExecutor.component\u001b[1;34m(self)\u001b[0m\n\u001b[0;32m     83\u001b[0m     \u001b[39mreturn\u001b[39;00m component\n\u001b[0;32m     84\u001b[0m \u001b[39mexcept\u001b[39;00m \u001b[39mImportError\u001b[39;00m:\n\u001b[0;32m     85\u001b[0m     \u001b[39m# pylint: disable=no-member\u001b[39;00m\n\u001b[0;32m     86\u001b[0m     \u001b[39m# package version: azure.ai.ml <= 0.1.0b4\u001b[39;00m\n\u001b[1;32m---> 87\u001b[0m     component \u001b[39m=\u001b[39m CommandComponent\u001b[39m.\u001b[39;49m_load_from_dict(\n\u001b[0;32m     88\u001b[0m         {\u001b[39m*\u001b[39m\u001b[39m*\u001b[39mentity_args, \u001b[39m*\u001b[39m\u001b[39m*\u001b[39mio_properties},\n\u001b[0;32m     89\u001b[0m         context\u001b[39m=\u001b[39m{BASE_PATH_CONTEXT_KEY: Path(\u001b[39m\"\u001b[39m\u001b[39m./\u001b[39m\u001b[39m\"\u001b[39m)},\n\u001b[0;32m     90\u001b[0m         _source\u001b[39m=\u001b[39mComponentSource\u001b[39m.\u001b[39mMLDESIGNER,\n\u001b[0;32m     91\u001b[0m     )\n\u001b[0;32m     92\u001b[0m     \u001b[39mreturn\u001b[39;00m component\n\u001b[0;32m     93\u001b[0m \u001b[39mexcept\u001b[39;00m \u001b[39mException\u001b[39;00m \u001b[39mas\u001b[39;00m e:\n",
      "\u001b[1;31mAttributeError\u001b[0m: type object 'CommandComponent' has no attribute '_load_from_dict'"
     ]
    }
   ],
   "source": [
    "@command_component(\n",
    "    name = \"prep_data\",\n",
    "    version = \"1\",\n",
    "    display_name=\"Data Preparation\",\n",
    "    description=\"Convert data to csv file, then split to training and test data\",\n",
    "    environment=dict(\n",
    "        #conda_file=Path(__file__).parent / \"conda.yaml\",\n",
    "        #conda_file=Path(os.path.abspath('')).parent / \"conda.yaml\",\n",
    "        conda_file= \"./conda.yaml\",\n",
    "        image=\"mcr.microsoft.com/azureml/openmpi3.1.2-ubuntu18.04\",\n",
    "    ),\n",
    ")\n",
    "def prep_data_component(\n",
    "    input_data:Input(type=\"uri_folder\"),\n",
    "    training_data: Output(type=\"uri_folder\"),\n",
    "    test_data: Output(type=\"uri_folder\",)\n",
    "):\n",
    "    convert(\n",
    "        os.path.join(input_data, \"train-images-idx3-ubyte\"),\n",
    "        os.path.join(input_data, \"train-labels-idx1-ubyte\"),\n",
    "        os.path.join(training_data, \"mnist_train.csv\"),\n",
    "        60000,\n",
    "    )\n",
    "    convert(\n",
    "        os.path.join(input_data, \"t10k-images-idx3-ubyte\"),\n",
    "        os.path.join(input_data, \"t10k-labels-idx1-ubyte\"),\n",
    "        os.path.join(test_data, \"mnist_test.csv\"),\n",
    "        10000,\n",
    "    )\n",
    "\n",
    "def convert(imgf, labelf, outf, n):\n",
    "    f = open(imgf, \"rb\")\n",
    "    l = open(labelf, \"rb\")\n",
    "    o = open(outf, \"w\")\n",
    "\n",
    "    f.read(16)\n",
    "    l.read(8)\n",
    "    images = []\n",
    "\n",
    "    for i in range(n):\n",
    "        image = [ord(l.read(1))]\n",
    "        for j in range(28 * 28):\n",
    "            image.append(ord(f.read(1)))\n",
    "        images.append(image)\n",
    "\n",
    "    for image in images:\n",
    "        o.write(\",\".join(str(pix) for pix in image) + \"\\n\")\n",
    "    f.close()\n",
    "    o.close()\n",
    "    l.close()"
   ]
  },
  {
   "cell_type": "code",
   "execution_count": 6,
   "metadata": {},
   "outputs": [
    {
     "ename": "NameError",
     "evalue": "name '__file__' is not defined",
     "output_type": "error",
     "traceback": [
      "\u001b[1;31m---------------------------------------------------------------------------\u001b[0m",
      "\u001b[1;31mNameError\u001b[0m                                 Traceback (most recent call last)",
      "\u001b[1;32md:\\code\\dpv2demo\\notebook\\pipeline_sdk_demo.ipynb Cell 5\u001b[0m in \u001b[0;36m<cell line: 1>\u001b[1;34m()\u001b[0m\n\u001b[1;32m----> <a href='vscode-notebook-cell:/d%3A/code/dpv2demo/notebook/pipeline_sdk_demo.ipynb#W4sZmlsZQ%3D%3D?line=0'>1</a>\u001b[0m \u001b[39mprint\u001b[39m(\u001b[39m__file__\u001b[39;49m)\n",
      "\u001b[1;31mNameError\u001b[0m: name '__file__' is not defined"
     ]
    }
   ],
   "source": [
    "print(__file__)"
   ]
  },
  {
   "cell_type": "code",
   "execution_count": null,
   "metadata": {},
   "outputs": [],
   "source": []
  }
 ],
 "metadata": {
  "kernelspec": {
   "display_name": "Python 3.10.4 ('dpv2')",
   "language": "python",
   "name": "python3"
  },
  "language_info": {
   "codemirror_mode": {
    "name": "ipython",
    "version": 3
   },
   "file_extension": ".py",
   "mimetype": "text/x-python",
   "name": "python",
   "nbconvert_exporter": "python",
   "pygments_lexer": "ipython3",
   "version": "3.10.4"
  },
  "orig_nbformat": 4,
  "vscode": {
   "interpreter": {
    "hash": "fd93e304daff9e4e686bfc9607973de377fed28736a52eb30bf8c94fedb78ed2"
   }
  }
 },
 "nbformat": 4,
 "nbformat_minor": 2
}
